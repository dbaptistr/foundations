{
 "cells": [
  {
   "cell_type": "markdown",
   "metadata": {},
   "source": [
    "# Texas Tow Trucks\n",
    "\n",
    "We're going to scrape some [tow trucks in Texas](https://www.tdlr.texas.gov/tools_search/)."
   ]
  },
  {
   "cell_type": "markdown",
   "metadata": {},
   "source": [
    "## Import your imports"
   ]
  },
  {
   "cell_type": "code",
   "execution_count": 3,
   "metadata": {},
   "outputs": [],
   "source": [
    "from selenium import webdriver\n",
    "from selenium.webdriver.common.keys import Keys\n",
    "from selenium.webdriver.support.ui import Select\n",
    "from selenium.webdriver.support.ui import WebDriverWait"
   ]
  },
  {
   "cell_type": "markdown",
   "metadata": {},
   "source": [
    "## Search for the TLDR Number `006179570C`, and scrape the information on that company\n",
    "\n",
    "Using [license information system](https://www.tdlr.texas.gov/tools_search/), find information about the tow truck number above, displaying the\n",
    "\n",
    "- The business name\n",
    "- Owner/operator\n",
    "- Phone number\n",
    "- License status (Active, Expired, Etc)\n",
    "- Physical address\n",
    "\n",
    "If you can't figure a 'nice' way to locate something, your two last options might be:\n",
    "\n",
    "- **Find a \"parent\" element, then dig inside**\n",
    "- **Find all of a type of element** (like we did with `td` before) and get the `[0]`, `[1]`, `[2]`, etc\n",
    "- **XPath** (inspect an element, Copy > Copy XPath)\n",
    "\n",
    "These kinds of techniques tend to break when you're on other result pages, but... maybe not! You won't know until you try.\n",
    "\n",
    "> - *TIP: When you use xpath, you CANNOT use double quotes or Python will get confused. Use single quotes.*\n",
    "> - *TIP: You can clean your data up if you want to, or leave it dirty to clean later*\n",
    "> - *TIP: The address part can be tough, but you have a few options. You can use a combination of `.split` and list slicing to clean it now, or clean it later in the dataframe with regular expressions. Or other options, too, probably*"
   ]
  },
  {
   "cell_type": "code",
   "execution_count": 4,
   "metadata": {},
   "outputs": [],
   "source": [
    "driver = webdriver.Chrome()"
   ]
  },
  {
   "cell_type": "code",
   "execution_count": 5,
   "metadata": {},
   "outputs": [],
   "source": [
    "driver.get(\"https://www.tdlr.texas.gov/tools_search/\")"
   ]
  },
  {
   "cell_type": "code",
   "execution_count": 6,
   "metadata": {},
   "outputs": [],
   "source": [
    "text_input = driver.find_element_by_xpath('//*[@id=\"mcrdata\"]')\n",
    "text_input.send_keys('006179570C')"
   ]
  },
  {
   "cell_type": "code",
   "execution_count": 7,
   "metadata": {},
   "outputs": [],
   "source": [
    "button = driver.find_element_by_xpath('//*[@id=\"submit3\"]/b')\n",
    "button.click()"
   ]
  },
  {
   "cell_type": "code",
   "execution_count": 8,
   "metadata": {},
   "outputs": [
    {
     "data": {
      "text/plain": [
       "'Name:   B.D. SMITH TOWING'"
      ]
     },
     "execution_count": 8,
     "metadata": {},
     "output_type": "execute_result"
    }
   ],
   "source": [
    "company_name = driver.find_element_by_xpath('//*[@id=\"t1\"]/tbody/tr/td/font/table[2]/tbody/tr[2]/td[1]')\n",
    "company_name.text\n"
   ]
  },
  {
   "cell_type": "code",
   "execution_count": 10,
   "metadata": {},
   "outputs": [
    {
     "data": {
      "text/plain": [
       "'Owner/Officer:   BRANDT SMITH / OWNER'"
      ]
     },
     "execution_count": 10,
     "metadata": {},
     "output_type": "execute_result"
    }
   ],
   "source": [
    "owner = driver.find_element_by_xpath('//*[@id=\"t1\"]/tbody/tr/td/font/table[2]/tbody/tr[3]/td[1]')\n",
    "owner.text"
   ]
  },
  {
   "cell_type": "code",
   "execution_count": 11,
   "metadata": {},
   "outputs": [
    {
     "data": {
      "text/plain": [
       "'Phone:   8173330706'"
      ]
     },
     "execution_count": 11,
     "metadata": {},
     "output_type": "execute_result"
    }
   ],
   "source": [
    "phone_number = driver.find_element_by_xpath('//*[@id=\"t1\"]/tbody/tr/td/font/table[2]/tbody/tr[4]/td[1]')\n",
    "phone_number.text"
   ]
  },
  {
   "cell_type": "code",
   "execution_count": 12,
   "metadata": {},
   "outputs": [
    {
     "data": {
      "text/plain": [
       "'Expired'"
      ]
     },
     "execution_count": 12,
     "metadata": {},
     "output_type": "execute_result"
    }
   ],
   "source": [
    "license_status = driver.find_element_by_xpath('//*[@id=\"t1\"]/tbody/tr/td/font/table[3]/tbody/tr[1]/td[2]/font')\n",
    "license_status.text"
   ]
  },
  {
   "cell_type": "code",
   "execution_count": 17,
   "metadata": {},
   "outputs": [
    {
     "data": {
      "text/plain": [
       "['76179\\n\\nPhysical:\\n13619',\n",
       " 'BRETT',\n",
       " 'JACKSON',\n",
       " 'RD.\\nFORT',\n",
       " 'WORTH,',\n",
       " 'TX.',\n",
       " '76179']"
      ]
     },
     "execution_count": 17,
     "metadata": {},
     "output_type": "execute_result"
    }
   ],
   "source": [
    "address = driver.find_element_by_xpath('//*[@id=\"t1\"]/tbody/tr/td/font/table[3]/tbody/tr[2]/td[2]').text\n",
    "address1 = address.split(' ')[19:26]\n",
    "address1"
   ]
  },
  {
   "cell_type": "markdown",
   "metadata": {},
   "source": [
    "# Adapt this to work inside of a single cell\n",
    "\n",
    "Double-check that it works. You want it to print out all of the details."
   ]
  },
  {
   "cell_type": "code",
   "execution_count": 25,
   "metadata": {},
   "outputs": [
    {
     "data": {
      "text/plain": [
       "[{'company_name': 'Name:   B.D. SMITH TOWING',\n",
       "  'owner': 'Owner/Officer:   BRANDT SMITH / OWNER',\n",
       "  'phone': 'Phone:   8173330706',\n",
       "  'license_status': 'Expired',\n",
       "  'address': ['76179\\n\\nPhysical:\\n13619',\n",
       "   'BRETT',\n",
       "   'JACKSON',\n",
       "   'RD.\\nFORT',\n",
       "   'WORTH,',\n",
       "   'TX.',\n",
       "   '76179']}]"
      ]
     },
     "execution_count": 25,
     "metadata": {},
     "output_type": "execute_result"
    }
   ],
   "source": [
    "tow_trucks = []\n",
    "\n",
    "tow_info = {}\n",
    "tow_info[\"company_name\"] = driver.find_element_by_xpath('//*[@id=\"t1\"]/tbody/tr/td/font/table[2]/tbody/tr[2]/td[1]').text\n",
    "tow_info[\"owner\"] = driver.find_element_by_xpath('//*[@id=\"t1\"]/tbody/tr/td/font/table[2]/tbody/tr[3]/td[1]').text\n",
    "tow_info[\"phone\"] = driver.find_element_by_xpath('//*[@id=\"t1\"]/tbody/tr/td/font/table[2]/tbody/tr[4]/td[1]').text\n",
    "tow_info[\"license_status\"] = driver.find_element_by_xpath('//*[@id=\"t1\"]/tbody/tr/td/font/table[3]/tbody/tr[1]/td[2]/font').text\n",
    "address = driver.find_element_by_xpath('//*[@id=\"t1\"]/tbody/tr/td/font/table[3]/tbody/tr[2]/td[2]').text\n",
    "tow_info[\"address\"] = address.split(' ')[19:26]\n",
    "\n",
    "tow_trucks.append(tow_info)\n",
    "    \n",
    "tow_trucks"
   ]
  },
  {
   "cell_type": "markdown",
   "metadata": {},
   "source": [
    "# Using .apply to find data about SEVERAL tow truck companies\n",
    "\n",
    "The file `trucks-subset.csv` has information about the trucks, we'll use it to find the pages to scrape.\n",
    "\n",
    "### Open up `trucks-subset.csv` and save it into a dataframe"
   ]
  },
  {
   "cell_type": "code",
   "execution_count": 29,
   "metadata": {},
   "outputs": [
    {
     "data": {
      "text/html": [
       "<div>\n",
       "<style scoped>\n",
       "    .dataframe tbody tr th:only-of-type {\n",
       "        vertical-align: middle;\n",
       "    }\n",
       "\n",
       "    .dataframe tbody tr th {\n",
       "        vertical-align: top;\n",
       "    }\n",
       "\n",
       "    .dataframe thead th {\n",
       "        text-align: right;\n",
       "    }\n",
       "</style>\n",
       "<table border=\"1\" class=\"dataframe\">\n",
       "  <thead>\n",
       "    <tr style=\"text-align: right;\">\n",
       "      <th></th>\n",
       "      <th>TDLR Number</th>\n",
       "    </tr>\n",
       "  </thead>\n",
       "  <tbody>\n",
       "    <tr>\n",
       "      <th>0</th>\n",
       "      <td>006507931C</td>\n",
       "    </tr>\n",
       "    <tr>\n",
       "      <th>1</th>\n",
       "      <td>006179570C</td>\n",
       "    </tr>\n",
       "    <tr>\n",
       "      <th>2</th>\n",
       "      <td>006502097C</td>\n",
       "    </tr>\n",
       "  </tbody>\n",
       "</table>\n",
       "</div>"
      ],
      "text/plain": [
       "  TDLR Number\n",
       "0  006507931C\n",
       "1  006179570C\n",
       "2  006502097C"
      ]
     },
     "execution_count": 29,
     "metadata": {},
     "output_type": "execute_result"
    }
   ],
   "source": [
    "import pandas as pd\n",
    "df = pd.read_csv(\"trucks-subset.csv\")\n",
    "df.head()"
   ]
  },
  {
   "cell_type": "markdown",
   "metadata": {},
   "source": [
    "## Go through each row of the dataset, displaying the URL you will need to scrape for the information on that row\n",
    "\n",
    "You don't have to actually use the search form for each of these - look at the URL you're on, it has the number in it!\n",
    "\n",
    "For example, one URL might look like `https://www.tdlr.texas.gov/tools_search/mccs_display.asp?mcrnumber=006495492C`.\n",
    "\n",
    "- *TIP: Use .apply and a function*\n",
    "- *TIP: Unlike the Yelp example, you'll need to build this URL from pieces*\n",
    "- *TIP: You probably don't want to `print` unless you're going to fix it for the next question \n",
    "- *TIP: pandas won't showing you the entire url! Run `pd.set_option('display.max_colwidth', -1)` to display aaaalll of the text in a cell*"
   ]
  },
  {
   "cell_type": "code",
   "execution_count": 30,
   "metadata": {},
   "outputs": [
    {
     "data": {
      "text/html": [
       "<div>\n",
       "<style scoped>\n",
       "    .dataframe tbody tr th:only-of-type {\n",
       "        vertical-align: middle;\n",
       "    }\n",
       "\n",
       "    .dataframe tbody tr th {\n",
       "        vertical-align: top;\n",
       "    }\n",
       "\n",
       "    .dataframe thead th {\n",
       "        text-align: right;\n",
       "    }\n",
       "</style>\n",
       "<table border=\"1\" class=\"dataframe\">\n",
       "  <thead>\n",
       "    <tr style=\"text-align: right;\">\n",
       "      <th></th>\n",
       "      <th>TDLR_Number</th>\n",
       "    </tr>\n",
       "  </thead>\n",
       "  <tbody>\n",
       "    <tr>\n",
       "      <th>0</th>\n",
       "      <td>006507931C</td>\n",
       "    </tr>\n",
       "    <tr>\n",
       "      <th>1</th>\n",
       "      <td>006179570C</td>\n",
       "    </tr>\n",
       "    <tr>\n",
       "      <th>2</th>\n",
       "      <td>006502097C</td>\n",
       "    </tr>\n",
       "  </tbody>\n",
       "</table>\n",
       "</div>"
      ],
      "text/plain": [
       "  TDLR_Number\n",
       "0  006507931C\n",
       "1  006179570C\n",
       "2  006502097C"
      ]
     },
     "execution_count": 30,
     "metadata": {},
     "output_type": "execute_result"
    }
   ],
   "source": [
    "df = df.rename(columns={'TDLR Number': 'TDLR_Number'})\n",
    "df"
   ]
  },
  {
   "cell_type": "code",
   "execution_count": 59,
   "metadata": {},
   "outputs": [],
   "source": [
    "def get_links(row):\n",
    "    for rows in df['TDLR_Number']:\n",
    "        return \"https://www.tdlr.texas.gov/tools_search/mccs_display.asp?mcrnumber=\" + row\n",
    "  "
   ]
  },
  {
   "cell_type": "markdown",
   "metadata": {},
   "source": [
    "### Save this URL into a new column of your dataframe, called `url`\n",
    "\n",
    "- *TIP: Use a function and `.apply`*\n",
    "- *TIP: Be sure to use `return`*"
   ]
  },
  {
   "cell_type": "code",
   "execution_count": 60,
   "metadata": {},
   "outputs": [],
   "source": [
    "df['url'] = df.TDLR_Number.apply(get_links)"
   ]
  },
  {
   "cell_type": "code",
   "execution_count": 61,
   "metadata": {},
   "outputs": [
    {
     "data": {
      "text/html": [
       "<div>\n",
       "<style scoped>\n",
       "    .dataframe tbody tr th:only-of-type {\n",
       "        vertical-align: middle;\n",
       "    }\n",
       "\n",
       "    .dataframe tbody tr th {\n",
       "        vertical-align: top;\n",
       "    }\n",
       "\n",
       "    .dataframe thead th {\n",
       "        text-align: right;\n",
       "    }\n",
       "</style>\n",
       "<table border=\"1\" class=\"dataframe\">\n",
       "  <thead>\n",
       "    <tr style=\"text-align: right;\">\n",
       "      <th></th>\n",
       "      <th>TDLR_Number</th>\n",
       "      <th>url</th>\n",
       "    </tr>\n",
       "  </thead>\n",
       "  <tbody>\n",
       "    <tr>\n",
       "      <th>0</th>\n",
       "      <td>006507931C</td>\n",
       "      <td>https://www.tdlr.texas.gov/tools_search/mccs_display.asp?mcrnumber=006507931C</td>\n",
       "    </tr>\n",
       "    <tr>\n",
       "      <th>1</th>\n",
       "      <td>006179570C</td>\n",
       "      <td>https://www.tdlr.texas.gov/tools_search/mccs_display.asp?mcrnumber=006179570C</td>\n",
       "    </tr>\n",
       "    <tr>\n",
       "      <th>2</th>\n",
       "      <td>006502097C</td>\n",
       "      <td>https://www.tdlr.texas.gov/tools_search/mccs_display.asp?mcrnumber=006502097C</td>\n",
       "    </tr>\n",
       "  </tbody>\n",
       "</table>\n",
       "</div>"
      ],
      "text/plain": [
       "  TDLR_Number  \\\n",
       "0  006507931C   \n",
       "1  006179570C   \n",
       "2  006502097C   \n",
       "\n",
       "                                                                             url  \n",
       "0  https://www.tdlr.texas.gov/tools_search/mccs_display.asp?mcrnumber=006507931C  \n",
       "1  https://www.tdlr.texas.gov/tools_search/mccs_display.asp?mcrnumber=006179570C  \n",
       "2  https://www.tdlr.texas.gov/tools_search/mccs_display.asp?mcrnumber=006502097C  "
      ]
     },
     "execution_count": 61,
     "metadata": {},
     "output_type": "execute_result"
    }
   ],
   "source": [
    "pd.set_option('display.max_colwidth', -1)\n",
    "df"
   ]
  },
  {
   "cell_type": "markdown",
   "metadata": {},
   "source": [
    "## Go through each row of the dataset, printing out information about each tow truck company.\n",
    "\n",
    "Now will be **scraping** inside of your function.\n",
    "\n",
    "- The business name\n",
    "- Owner/operator\n",
    "- Phone number\n",
    "- License status (Active, Expired, Etc)\n",
    "- Physical address\n",
    "\n",
    "Just print it out for now.\n",
    "\n",
    "- *TIP: use .apply*\n",
    "- *TIP: You'll be using the code you wrote before, but converted into a function*\n",
    "- *TIP: Remember how the TDLR Number is in the URL? You don't need to do the form submission if you don't want!*\n",
    "- *TIP: Make sure you adjust any variables so you don't scrape the same page again and again*"
   ]
  },
  {
   "cell_type": "code",
   "execution_count": 62,
   "metadata": {},
   "outputs": [],
   "source": [
    "def get_truck_info(row):\n",
    "    driver.get(\"https://www.tdlr.texas.gov/tools_search/mccs_display.asp?mcrnumber=\" + row['TDLR_Number'])\n",
    "    \n",
    "    company_name = driver.find_element_by_xpath('//*[@id=\"t1\"]/tbody/tr/td/font/table[2]/tbody/tr[2]/td[1]').text\n",
    "    owner = driver.find_element_by_xpath('//*[@id=\"t1\"]/tbody/tr/td/font/table[2]/tbody/tr[3]/td[1]').text\n",
    "    phone = driver.find_element_by_xpath('//*[@id=\"t1\"]/tbody/tr/td/font/table[2]/tbody/tr[4]/td[1]').text\n",
    "    license_status = driver.find_element_by_xpath('//*[@id=\"t1\"]/tbody/tr/td/font/table[3]/tbody/tr[1]/td[2]/font').text\n",
    "    license_status1 = \"License status:\" + license_status\n",
    "    address = driver.find_element_by_xpath('//*[@id=\"t1\"]/tbody/tr/td/font/table[3]/tbody/tr[2]/td[2]').text\n",
    "    address1 = address.split(' ')[19:26]\n",
    "    \n",
    "    print(company_name, owner, phone, license_status1, address1)"
   ]
  },
  {
   "cell_type": "code",
   "execution_count": 63,
   "metadata": {},
   "outputs": [
    {
     "name": "stdout",
     "output_type": "stream",
     "text": [
      "Name:   AUGUSTUS E SMITH Owner/Officer:   AUGUSTUS EUGENE SMITH / OWNER Phone:   9032276464 License status:Active ['N', 'MAIN', 'ST\\nBONHAM,', 'TX.', '75418']\n",
      "Name:   B.D. SMITH TOWING Owner/Officer:   BRANDT SMITH / OWNER Phone:   8173330706 License status:Expired ['76179\\n\\nPhysical:\\n13619', 'BRETT', 'JACKSON', 'RD.\\nFORT', 'WORTH,', 'TX.', '76179']\n",
      "Name:   BARRY MICHAEL SMITH Owner/Officer:   BARRY MICHAEL SMITH / OWNER Phone:   8066544404 License status:Active ['W', 'CEMETERY', 'RD\\nCANYON,', 'TX.', '79015']\n"
     ]
    },
    {
     "data": {
      "text/plain": [
       "0    None\n",
       "1    None\n",
       "2    None\n",
       "dtype: object"
      ]
     },
     "execution_count": 63,
     "metadata": {},
     "output_type": "execute_result"
    }
   ],
   "source": [
    "df.apply(get_truck_info, axis=1)"
   ]
  },
  {
   "cell_type": "markdown",
   "metadata": {},
   "source": [
    "## Scrape the following information for each row of the dataset, and save it into new columns in your dataframe.\n",
    "\n",
    "- The business name\n",
    "- Owner/operator\n",
    "- Phone number\n",
    "- License status (Active, Expired, Etc)\n",
    "- Physical address\n",
    "\n",
    "It's basically what we did before, but using the function a little differently.\n",
    "\n",
    "- *TIP: Same as above, but you'll be returning a `pd.Series` and the `.apply` line is going to be a lot longer*\n",
    "- *TIP: Save it to a new dataframe!*\n",
    "- *TIP: Make sure you change your `df` variable names correctly if you're cutting and pasting - there are a few so it can get tricky*"
   ]
  },
  {
   "cell_type": "code",
   "execution_count": 64,
   "metadata": {},
   "outputs": [],
   "source": [
    "def get_truck_info(row):\n",
    "    driver.get(\"https://www.tdlr.texas.gov/tools_search/mccs_display.asp?mcrnumber=\" + row['TDLR_Number'])\n",
    "    \n",
    "    company_name = driver.find_element_by_xpath('//*[@id=\"t1\"]/tbody/tr/td/font/table[2]/tbody/tr[2]/td[1]').text\n",
    "    owner = driver.find_element_by_xpath('//*[@id=\"t1\"]/tbody/tr/td/font/table[2]/tbody/tr[3]/td[1]').text\n",
    "    phone = driver.find_element_by_xpath('//*[@id=\"t1\"]/tbody/tr/td/font/table[2]/tbody/tr[4]/td[1]').text\n",
    "    license_status = driver.find_element_by_xpath('//*[@id=\"t1\"]/tbody/tr/td/font/table[3]/tbody/tr[1]/td[2]/font').text\n",
    "    address = driver.find_element_by_xpath('//*[@id=\"t1\"]/tbody/tr/td/font/table[3]/tbody/tr[2]/td[2]').text\n",
    "    address1 = address.split(' ')[19:26]\n",
    "    \n",
    "    return pd.Series({\n",
    "        \"company_name\": company_name,\n",
    "        \"owner\": owner,\n",
    "        \"phone\": phone,\n",
    "        \"license_status\": license_status,\n",
    "        \"address\": address1\n",
    "    })\n"
   ]
  },
  {
   "cell_type": "code",
   "execution_count": 65,
   "metadata": {},
   "outputs": [
    {
     "data": {
      "text/html": [
       "<div>\n",
       "<style scoped>\n",
       "    .dataframe tbody tr th:only-of-type {\n",
       "        vertical-align: middle;\n",
       "    }\n",
       "\n",
       "    .dataframe tbody tr th {\n",
       "        vertical-align: top;\n",
       "    }\n",
       "\n",
       "    .dataframe thead th {\n",
       "        text-align: right;\n",
       "    }\n",
       "</style>\n",
       "<table border=\"1\" class=\"dataframe\">\n",
       "  <thead>\n",
       "    <tr style=\"text-align: right;\">\n",
       "      <th></th>\n",
       "      <th>company_name</th>\n",
       "      <th>owner</th>\n",
       "      <th>phone</th>\n",
       "      <th>license_status</th>\n",
       "      <th>address</th>\n",
       "      <th>TDLR_Number</th>\n",
       "      <th>url</th>\n",
       "    </tr>\n",
       "  </thead>\n",
       "  <tbody>\n",
       "    <tr>\n",
       "      <th>0</th>\n",
       "      <td>Name:   AUGUSTUS E SMITH</td>\n",
       "      <td>Owner/Officer:   AUGUSTUS EUGENE SMITH / OWNER</td>\n",
       "      <td>Phone:   9032276464</td>\n",
       "      <td>Active</td>\n",
       "      <td>[N, MAIN, ST\\nBONHAM,, TX., 75418]</td>\n",
       "      <td>006507931C</td>\n",
       "      <td>https://www.tdlr.texas.gov/tools_search/mccs_display.asp?mcrnumber=006507931C</td>\n",
       "    </tr>\n",
       "    <tr>\n",
       "      <th>1</th>\n",
       "      <td>Name:   B.D. SMITH TOWING</td>\n",
       "      <td>Owner/Officer:   BRANDT SMITH / OWNER</td>\n",
       "      <td>Phone:   8173330706</td>\n",
       "      <td>Expired</td>\n",
       "      <td>[76179\\n\\nPhysical:\\n13619, BRETT, JACKSON, RD.\\nFORT, WORTH,, TX., 76179]</td>\n",
       "      <td>006179570C</td>\n",
       "      <td>https://www.tdlr.texas.gov/tools_search/mccs_display.asp?mcrnumber=006179570C</td>\n",
       "    </tr>\n",
       "    <tr>\n",
       "      <th>2</th>\n",
       "      <td>Name:   BARRY MICHAEL SMITH</td>\n",
       "      <td>Owner/Officer:   BARRY MICHAEL SMITH / OWNER</td>\n",
       "      <td>Phone:   8066544404</td>\n",
       "      <td>Active</td>\n",
       "      <td>[W, CEMETERY, RD\\nCANYON,, TX., 79015]</td>\n",
       "      <td>006502097C</td>\n",
       "      <td>https://www.tdlr.texas.gov/tools_search/mccs_display.asp?mcrnumber=006502097C</td>\n",
       "    </tr>\n",
       "  </tbody>\n",
       "</table>\n",
       "</div>"
      ],
      "text/plain": [
       "                  company_name  \\\n",
       "0  Name:   AUGUSTUS E SMITH      \n",
       "1  Name:   B.D. SMITH TOWING     \n",
       "2  Name:   BARRY MICHAEL SMITH   \n",
       "\n",
       "                                            owner                phone  \\\n",
       "0  Owner/Officer:   AUGUSTUS EUGENE SMITH / OWNER  Phone:   9032276464   \n",
       "1  Owner/Officer:   BRANDT SMITH / OWNER           Phone:   8173330706   \n",
       "2  Owner/Officer:   BARRY MICHAEL SMITH / OWNER    Phone:   8066544404   \n",
       "\n",
       "  license_status  \\\n",
       "0  Active          \n",
       "1  Expired         \n",
       "2  Active          \n",
       "\n",
       "                                                                      address  \\\n",
       "0  [N, MAIN, ST\\nBONHAM,, TX., 75418]                                           \n",
       "1  [76179\\n\\nPhysical:\\n13619, BRETT, JACKSON, RD.\\nFORT, WORTH,, TX., 76179]   \n",
       "2  [W, CEMETERY, RD\\nCANYON,, TX., 79015]                                       \n",
       "\n",
       "  TDLR_Number  \\\n",
       "0  006507931C   \n",
       "1  006179570C   \n",
       "2  006502097C   \n",
       "\n",
       "                                                                             url  \n",
       "0  https://www.tdlr.texas.gov/tools_search/mccs_display.asp?mcrnumber=006507931C  \n",
       "1  https://www.tdlr.texas.gov/tools_search/mccs_display.asp?mcrnumber=006179570C  \n",
       "2  https://www.tdlr.texas.gov/tools_search/mccs_display.asp?mcrnumber=006502097C  "
      ]
     },
     "execution_count": 65,
     "metadata": {},
     "output_type": "execute_result"
    }
   ],
   "source": [
    "driver = webdriver.Chrome()\n",
    "\n",
    "new_df = df.apply(get_truck_info, axis=1).join(df)\n",
    "new_df.head()"
   ]
  },
  {
   "cell_type": "markdown",
   "metadata": {},
   "source": [
    "### Save your dataframe as a CSV named `tow-trucks-extended.csv`"
   ]
  },
  {
   "cell_type": "code",
   "execution_count": 68,
   "metadata": {},
   "outputs": [],
   "source": [
    "new_df.to_csv(\"tow-trucks-extended.csv\", index=False)"
   ]
  },
  {
   "cell_type": "markdown",
   "metadata": {},
   "source": [
    "### Re-open your dataframe to confirm you didn't save any extra weird columns"
   ]
  },
  {
   "cell_type": "code",
   "execution_count": 69,
   "metadata": {},
   "outputs": [
    {
     "data": {
      "text/html": [
       "<div>\n",
       "<style scoped>\n",
       "    .dataframe tbody tr th:only-of-type {\n",
       "        vertical-align: middle;\n",
       "    }\n",
       "\n",
       "    .dataframe tbody tr th {\n",
       "        vertical-align: top;\n",
       "    }\n",
       "\n",
       "    .dataframe thead th {\n",
       "        text-align: right;\n",
       "    }\n",
       "</style>\n",
       "<table border=\"1\" class=\"dataframe\">\n",
       "  <thead>\n",
       "    <tr style=\"text-align: right;\">\n",
       "      <th></th>\n",
       "      <th>company_name</th>\n",
       "      <th>owner</th>\n",
       "      <th>phone</th>\n",
       "      <th>license_status</th>\n",
       "      <th>address</th>\n",
       "      <th>TDLR_Number</th>\n",
       "      <th>url</th>\n",
       "    </tr>\n",
       "  </thead>\n",
       "  <tbody>\n",
       "    <tr>\n",
       "      <th>0</th>\n",
       "      <td>Name:   AUGUSTUS E SMITH</td>\n",
       "      <td>Owner/Officer:   AUGUSTUS EUGENE SMITH / OWNER</td>\n",
       "      <td>Phone:   9032276464</td>\n",
       "      <td>Active</td>\n",
       "      <td>['N', 'MAIN', 'ST\\nBONHAM,', 'TX.', '75418']</td>\n",
       "      <td>006507931C</td>\n",
       "      <td>https://www.tdlr.texas.gov/tools_search/mccs_display.asp?mcrnumber=006507931C</td>\n",
       "    </tr>\n",
       "    <tr>\n",
       "      <th>1</th>\n",
       "      <td>Name:   B.D. SMITH TOWING</td>\n",
       "      <td>Owner/Officer:   BRANDT SMITH / OWNER</td>\n",
       "      <td>Phone:   8173330706</td>\n",
       "      <td>Expired</td>\n",
       "      <td>['76179\\n\\nPhysical:\\n13619', 'BRETT', 'JACKSON', 'RD.\\nFORT', 'WORTH,', 'TX.', '76179']</td>\n",
       "      <td>006179570C</td>\n",
       "      <td>https://www.tdlr.texas.gov/tools_search/mccs_display.asp?mcrnumber=006179570C</td>\n",
       "    </tr>\n",
       "    <tr>\n",
       "      <th>2</th>\n",
       "      <td>Name:   BARRY MICHAEL SMITH</td>\n",
       "      <td>Owner/Officer:   BARRY MICHAEL SMITH / OWNER</td>\n",
       "      <td>Phone:   8066544404</td>\n",
       "      <td>Active</td>\n",
       "      <td>['W', 'CEMETERY', 'RD\\nCANYON,', 'TX.', '79015']</td>\n",
       "      <td>006502097C</td>\n",
       "      <td>https://www.tdlr.texas.gov/tools_search/mccs_display.asp?mcrnumber=006502097C</td>\n",
       "    </tr>\n",
       "  </tbody>\n",
       "</table>\n",
       "</div>"
      ],
      "text/plain": [
       "                  company_name  \\\n",
       "0  Name:   AUGUSTUS E SMITH      \n",
       "1  Name:   B.D. SMITH TOWING     \n",
       "2  Name:   BARRY MICHAEL SMITH   \n",
       "\n",
       "                                            owner                phone  \\\n",
       "0  Owner/Officer:   AUGUSTUS EUGENE SMITH / OWNER  Phone:   9032276464   \n",
       "1  Owner/Officer:   BRANDT SMITH / OWNER           Phone:   8173330706   \n",
       "2  Owner/Officer:   BARRY MICHAEL SMITH / OWNER    Phone:   8066544404   \n",
       "\n",
       "  license_status  \\\n",
       "0  Active          \n",
       "1  Expired         \n",
       "2  Active          \n",
       "\n",
       "                                                                                    address  \\\n",
       "0  ['N', 'MAIN', 'ST\\nBONHAM,', 'TX.', '75418']                                               \n",
       "1  ['76179\\n\\nPhysical:\\n13619', 'BRETT', 'JACKSON', 'RD.\\nFORT', 'WORTH,', 'TX.', '76179']   \n",
       "2  ['W', 'CEMETERY', 'RD\\nCANYON,', 'TX.', '79015']                                           \n",
       "\n",
       "  TDLR_Number  \\\n",
       "0  006507931C   \n",
       "1  006179570C   \n",
       "2  006502097C   \n",
       "\n",
       "                                                                             url  \n",
       "0  https://www.tdlr.texas.gov/tools_search/mccs_display.asp?mcrnumber=006507931C  \n",
       "1  https://www.tdlr.texas.gov/tools_search/mccs_display.asp?mcrnumber=006179570C  \n",
       "2  https://www.tdlr.texas.gov/tools_search/mccs_display.asp?mcrnumber=006502097C  "
      ]
     },
     "execution_count": 69,
     "metadata": {},
     "output_type": "execute_result"
    }
   ],
   "source": [
    "new_df = pd.read_csv(\"tow-trucks-extended.csv\")\n",
    "new_df"
   ]
  },
  {
   "cell_type": "markdown",
   "metadata": {},
   "source": [
    "## Process the entire `tow-trucks.csv` file\n",
    "\n",
    "We just did it on a short subset so far. Now try it on all of the tow trucks. **Save as the same filename as before**"
   ]
  },
  {
   "cell_type": "code",
   "execution_count": 76,
   "metadata": {},
   "outputs": [],
   "source": [
    "df = pd.read_csv(\"tow-trucks.csv\")\n",
    "df = df.rename(columns={'TDLR Number': 'TDLR_Number'})\n"
   ]
  },
  {
   "cell_type": "code",
   "execution_count": 78,
   "metadata": {},
   "outputs": [],
   "source": [
    "def get_links(row):\n",
    "    for rows in df['TDLR_Number']:\n",
    "        return \"https://www.tdlr.texas.gov/tools_search/mccs_display.asp?mcrnumber=\" + row\n",
    "  \n",
    "df['url'] = df.TDLR_Number.apply(get_links)\n",
    "\n",
    "pd.set_option('display.max_colwidth', -1)"
   ]
  },
  {
   "cell_type": "code",
   "execution_count": 79,
   "metadata": {},
   "outputs": [],
   "source": [
    "def get_truck_info(row):\n",
    "    driver.get(\"https://www.tdlr.texas.gov/tools_search/mccs_display.asp?mcrnumber=\" + row['TDLR_Number'])\n",
    "    \n",
    "    company_name = driver.find_element_by_xpath('//*[@id=\"t1\"]/tbody/tr/td/font/table[2]/tbody/tr[2]/td[1]').text\n",
    "    owner = driver.find_element_by_xpath('//*[@id=\"t1\"]/tbody/tr/td/font/table[2]/tbody/tr[3]/td[1]').text\n",
    "    phone = driver.find_element_by_xpath('//*[@id=\"t1\"]/tbody/tr/td/font/table[2]/tbody/tr[4]/td[1]').text\n",
    "    license_status = driver.find_element_by_xpath('//*[@id=\"t1\"]/tbody/tr/td/font/table[3]/tbody/tr[1]/td[2]/font').text\n",
    "    address = driver.find_element_by_xpath('//*[@id=\"t1\"]/tbody/tr/td/font/table[3]/tbody/tr[2]/td[2]').text\n",
    "    address1 = address.split(' ')[19:26]\n",
    "    \n",
    "    return pd.Series({\n",
    "        \"company_name\": company_name,\n",
    "        \"owner\": owner,\n",
    "        \"phone\": phone,\n",
    "        \"license_status\": license_status,\n",
    "        \"address\": address1\n",
    "    \n",
    "    })"
   ]
  },
  {
   "cell_type": "code",
   "execution_count": 84,
   "metadata": {},
   "outputs": [
    {
     "data": {
      "text/html": [
       "<div>\n",
       "<style scoped>\n",
       "    .dataframe tbody tr th:only-of-type {\n",
       "        vertical-align: middle;\n",
       "    }\n",
       "\n",
       "    .dataframe tbody tr th {\n",
       "        vertical-align: top;\n",
       "    }\n",
       "\n",
       "    .dataframe thead th {\n",
       "        text-align: right;\n",
       "    }\n",
       "</style>\n",
       "<table border=\"1\" class=\"dataframe\">\n",
       "  <thead>\n",
       "    <tr style=\"text-align: right;\">\n",
       "      <th></th>\n",
       "      <th>company_name</th>\n",
       "      <th>owner</th>\n",
       "      <th>phone</th>\n",
       "      <th>license_status</th>\n",
       "      <th>address</th>\n",
       "      <th>TDLR_Number</th>\n",
       "      <th>url</th>\n",
       "    </tr>\n",
       "  </thead>\n",
       "  <tbody>\n",
       "    <tr>\n",
       "      <th>0</th>\n",
       "      <td>Name:   AUGUSTUS E SMITH</td>\n",
       "      <td>Owner/Officer:   AUGUSTUS EUGENE SMITH / OWNER</td>\n",
       "      <td>Phone:   9032276464</td>\n",
       "      <td>Active</td>\n",
       "      <td>[N, MAIN, ST\\nBONHAM,, TX., 75418]</td>\n",
       "      <td>006507931C</td>\n",
       "      <td>https://www.tdlr.texas.gov/tools_search/mccs_display.asp?mcrnumber=006507931C</td>\n",
       "    </tr>\n",
       "    <tr>\n",
       "      <th>1</th>\n",
       "      <td>Name:   B.D. SMITH TOWING</td>\n",
       "      <td>Owner/Officer:   BRANDT SMITH / OWNER</td>\n",
       "      <td>Phone:   8173330706</td>\n",
       "      <td>Expired</td>\n",
       "      <td>[76179\\n\\nPhysical:\\n13619, BRETT, JACKSON, RD.\\nFORT, WORTH,, TX., 76179]</td>\n",
       "      <td>006179570C</td>\n",
       "      <td>https://www.tdlr.texas.gov/tools_search/mccs_display.asp?mcrnumber=006179570C</td>\n",
       "    </tr>\n",
       "    <tr>\n",
       "      <th>2</th>\n",
       "      <td>Name:   BARRY MICHAEL SMITH</td>\n",
       "      <td>Owner/Officer:   BARRY MICHAEL SMITH / OWNER</td>\n",
       "      <td>Phone:   8066544404</td>\n",
       "      <td>Active</td>\n",
       "      <td>[W, CEMETERY, RD\\nCANYON,, TX., 79015]</td>\n",
       "      <td>006502097C</td>\n",
       "      <td>https://www.tdlr.texas.gov/tools_search/mccs_display.asp?mcrnumber=006502097C</td>\n",
       "    </tr>\n",
       "    <tr>\n",
       "      <th>3</th>\n",
       "      <td>Name:   HEATH SMITH</td>\n",
       "      <td>Owner/Officer:   HEATH A SMITH / OWNER</td>\n",
       "      <td>Phone:   940-552-0687</td>\n",
       "      <td>Expired</td>\n",
       "      <td>[ST\\nVERNON,, TX., 76384]</td>\n",
       "      <td>006494912C</td>\n",
       "      <td>https://www.tdlr.texas.gov/tools_search/mccs_display.asp?mcrnumber=006494912C</td>\n",
       "    </tr>\n",
       "    <tr>\n",
       "      <th>4</th>\n",
       "      <td>Name:   HEATH SMITH</td>\n",
       "      <td>Owner/Officer:   HEATH A SMITH / OWNER</td>\n",
       "      <td>Phone:   9405520687</td>\n",
       "      <td>Expired</td>\n",
       "      <td>[]</td>\n",
       "      <td>0649468VSF</td>\n",
       "      <td>https://www.tdlr.texas.gov/tools_search/mccs_display.asp?mcrnumber=0649468VSF</td>\n",
       "    </tr>\n",
       "  </tbody>\n",
       "</table>\n",
       "</div>"
      ],
      "text/plain": [
       "                  company_name  \\\n",
       "0  Name:   AUGUSTUS E SMITH      \n",
       "1  Name:   B.D. SMITH TOWING     \n",
       "2  Name:   BARRY MICHAEL SMITH   \n",
       "3  Name:   HEATH SMITH           \n",
       "4  Name:   HEATH SMITH           \n",
       "\n",
       "                                            owner                  phone  \\\n",
       "0  Owner/Officer:   AUGUSTUS EUGENE SMITH / OWNER  Phone:   9032276464     \n",
       "1  Owner/Officer:   BRANDT SMITH / OWNER           Phone:   8173330706     \n",
       "2  Owner/Officer:   BARRY MICHAEL SMITH / OWNER    Phone:   8066544404     \n",
       "3  Owner/Officer:   HEATH A SMITH / OWNER          Phone:   940-552-0687   \n",
       "4  Owner/Officer:   HEATH A SMITH / OWNER          Phone:   9405520687     \n",
       "\n",
       "  license_status  \\\n",
       "0  Active          \n",
       "1  Expired         \n",
       "2  Active          \n",
       "3  Expired         \n",
       "4  Expired         \n",
       "\n",
       "                                                                      address  \\\n",
       "0  [N, MAIN, ST\\nBONHAM,, TX., 75418]                                           \n",
       "1  [76179\\n\\nPhysical:\\n13619, BRETT, JACKSON, RD.\\nFORT, WORTH,, TX., 76179]   \n",
       "2  [W, CEMETERY, RD\\nCANYON,, TX., 79015]                                       \n",
       "3  [ST\\nVERNON,, TX., 76384]                                                    \n",
       "4  []                                                                           \n",
       "\n",
       "  TDLR_Number  \\\n",
       "0  006507931C   \n",
       "1  006179570C   \n",
       "2  006502097C   \n",
       "3  006494912C   \n",
       "4  0649468VSF   \n",
       "\n",
       "                                                                             url  \n",
       "0  https://www.tdlr.texas.gov/tools_search/mccs_display.asp?mcrnumber=006507931C  \n",
       "1  https://www.tdlr.texas.gov/tools_search/mccs_display.asp?mcrnumber=006179570C  \n",
       "2  https://www.tdlr.texas.gov/tools_search/mccs_display.asp?mcrnumber=006502097C  \n",
       "3  https://www.tdlr.texas.gov/tools_search/mccs_display.asp?mcrnumber=006494912C  \n",
       "4  https://www.tdlr.texas.gov/tools_search/mccs_display.asp?mcrnumber=0649468VSF  "
      ]
     },
     "execution_count": 84,
     "metadata": {},
     "output_type": "execute_result"
    }
   ],
   "source": [
    "driver = webdriver.Chrome()\n",
    "\n",
    "new_df = df.apply(get_truck_info, axis=1).join(df)\n",
    "new_df.head()"
   ]
  },
  {
   "cell_type": "code",
   "execution_count": 85,
   "metadata": {},
   "outputs": [],
   "source": [
    "new_df.to_csv(\"tow-trucks-extended.csv\", index=False)"
   ]
  }
 ],
 "metadata": {
  "kernelspec": {
   "display_name": "Python 3",
   "language": "python",
   "name": "python3"
  },
  "language_info": {
   "codemirror_mode": {
    "name": "ipython",
    "version": 3
   },
   "file_extension": ".py",
   "mimetype": "text/x-python",
   "name": "python",
   "nbconvert_exporter": "python",
   "pygments_lexer": "ipython3",
   "version": "3.6.5"
  }
 },
 "nbformat": 4,
 "nbformat_minor": 2
}
