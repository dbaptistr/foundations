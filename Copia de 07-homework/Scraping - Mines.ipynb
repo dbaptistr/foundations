{
 "cells": [
  {
   "cell_type": "markdown",
   "metadata": {},
   "source": [
    "# Mine Safety\n",
    "\n",
    "We're interested in [US mine safety](https://arlweb.msha.gov/drs/drshome.htm), thank goodness we can search for these things."
   ]
  },
  {
   "cell_type": "markdown",
   "metadata": {},
   "source": [
    "## Setup: Import what you'll need to search and scrape and Selenium"
   ]
  },
  {
   "cell_type": "code",
   "execution_count": 1,
   "metadata": {},
   "outputs": [],
   "source": [
    "from selenium import webdriver\n",
    "from selenium.webdriver.common.keys import Keys\n",
    "from selenium.webdriver.support.ui import Select\n",
    "from selenium.webdriver.support.ui import WebDriverWait"
   ]
  },
  {
   "cell_type": "markdown",
   "metadata": {},
   "source": [
    "## Starting from `https://arlweb.msha.gov/drs/drshome.htm`, search for every operator with 'dirt' in their name, including abandoned mines.\n",
    "\n",
    "> - *Tip: If you can't make an element work using name, class or ID, try to use the XPath*"
   ]
  },
  {
   "cell_type": "code",
   "execution_count": 2,
   "metadata": {},
   "outputs": [],
   "source": [
    "driver = webdriver.Chrome()"
   ]
  },
  {
   "cell_type": "code",
   "execution_count": 3,
   "metadata": {},
   "outputs": [],
   "source": [
    "driver.get(\"https://arlweb.msha.gov/drs/drshome.htm\")"
   ]
  },
  {
   "cell_type": "code",
   "execution_count": 4,
   "metadata": {},
   "outputs": [],
   "source": [
    "operator_dirt = driver.find_element_by_name('OperSearch')\n",
    "operator_dirt.send_keys(\"dirt\")"
   ]
  },
  {
   "cell_type": "code",
   "execution_count": 5,
   "metadata": {},
   "outputs": [],
   "source": [
    "button = driver.find_element_by_xpath('//*[@id=\"content\"]/form[1]/table/tbody/tr[7]/td[3]/input[1]')\n",
    "driver.execute_script(\"arguments[0].scrollIntoView(true)\", button)\n",
    "button.click()"
   ]
  },
  {
   "cell_type": "markdown",
   "metadata": {},
   "source": [
    "## Scrape the results page, saving it as `dirt-operators.csv`\n",
    "\n",
    "> - *Tip: Think about what each row in your dataset will be, and start by looping through that*\n",
    "> - *Tip: Printing is cool and good! Print everything! Move it into a dictionary later.*\n",
    "> - *Tip: If you don't want a row, think about what's in the row that makes it different. You can use an `if` statement or list slicing to skip the ones you aren't interested in.*\n",
    "> - *Tip: Make sure your dictionary and your loop variable have DIFFERENT NAMES*\n",
    "> - *Tip: After you've made your dictionary (and printed it, of course), you'll want to add it to your list of rows*\n",
    "> - *Tip: Be sure to import pandas to convert it to a dataframe*\n",
    "> - *Tip: Make sure you don't include the index when saving your dataframe*"
   ]
  },
  {
   "cell_type": "markdown",
   "metadata": {},
   "source": [
    "### Hopefully you know that each `tr` is supposed to be a row of your data. What is the index of the first row element that is actually a result?\n",
    "\n",
    "> - *Tip: `.text` will help you here.*\n",
    "> - *Tip: You aren't interesting in annotations or anything, just mines and where they are from*\n",
    "> - *Tip: Using `print(\"-----\")` will help you keep track of different rows*\n",
    "> - *Tip: If you have a list called `animals`, `animals[2:]` will skip the first two and start with the third. You can use this to skip ahead to the 'good' data if you want*"
   ]
  },
  {
   "cell_type": "code",
   "execution_count": 75,
   "metadata": {},
   "outputs": [
    {
     "name": "stdout",
     "output_type": "stream",
     "text": [
      "3503598\n",
      "OR  Newberg Rock & Dirt   Newberg Rock & Dirt Surface M  Active  Crushed, Broken Stone NEC \n",
      "1401575\n",
      "KS  Bender Sand & Dirt   BENDER SAND & DIRT Surface M  Intermittent  Construction Sand and Gravel \n",
      "5001797\n",
      "AK  Dirt Company   Bush Pilot Surface M  Intermittent  Construction Sand and Gravel \n",
      "2103723\n",
      "MN  Dirt Doctor Inc   Rock Lake Plant Surface M  Intermittent  Construction Sand and Gravel \n",
      "2103914\n",
      "MN  Dirt Work Specialists LLC   Astec Plant Surface M  Intermittent  Construction Sand and Gravel \n",
      "4104757\n",
      "TX  Dirt Works   Portable #1 Surface M  Intermittent  Construction Sand and Gravel \n",
      "0801306\n",
      "FL  Holley Dirt Company, Inc   River Road Pit Surface M  Active  Sand, Common \n",
      "3901432\n",
      "SD  Krueger Brothers Gravel & Dirt   PORTABLE SCREENER Surface M  Intermittent  Construction Sand and Gravel \n",
      "3609624\n",
      "PA  M R Dirt   Forbes Pit Surface M  Temporarily Idled  Construction Sand and Gravel \n",
      "3609931\n",
      "PA  M.R. Dirt Inc.   Camptown Quarry Surface M  Intermittent  Dimension Stone NEC \n",
      "1519799\n",
      "KY  P B Dirt Movers, Inc   Fedscreek Surface Surface C  Active  Coal (Bituminous) \n",
      "4407379\n",
      "VA  P B Dirt Movers, Inc.   No. 3 Surface C  New Mine   \n",
      "4407296\n",
      "VA  PB Dirt Movers   Mine No. 6 Underground C  Temporarily Idled  Coal (Bituminous) \n",
      "0203332\n",
      "AZ  Prescott Dirt, LLC   Sandretto Drive Surface M  Intermittent  Construction Sand and Gravel \n",
      "2901986\n",
      "NM  R D Blankenship Dirt Work LLC   R D BLANKENSHIP DIRT WORK Surface M  Active  Construction Sand and Gravel \n",
      "0801417\n",
      "FL  Sand & Dirt, Inc   Molino Pit Surface M  Active  Sand, Common \n",
      "4300768\n",
      "VT  SIMPSON DIRTWORX LLC   Pettibone Jaw Crusher Surface M  Intermittent  Construction Sand and Gravel \n",
      "4300776\n",
      "VT  SIMPSON DIRTWORX LLC   Chieftan 1400 Surface M  Intermittent  Construction Sand and Gravel \n",
      "2302283\n",
      "MO  Spry's Dirt & Gravel, Inc.   Mike's Money Pit Surface M  Intermittent  Construction Sand and Gravel \n",
      "2103518\n",
      "MN  Vogt Dirt Service   Crusher Surface M  Intermittent  Construction Sand and Gravel \n",
      "Total Number of Mines Found:  20\n"
     ]
    }
   ],
   "source": [
    "operators = driver.find_elements_by_tag_name('tr')\n",
    "for operator in operators[7:]:\n",
    "    print(operator.text)\n"
   ]
  },
  {
   "cell_type": "markdown",
   "metadata": {},
   "source": [
    "### Loop through each operator result, printing its name\n",
    "\n",
    "> - *Tip: If you have a list called `animals`, `animals[2:]` will skip the first two and start with the third.*\n",
    "> - *Tip: You can use list slicing or an `if` statement to skip the non-data row(s). List slicing is probably easier, even if you aren't comfortable with it.*\n",
    "> - *Tip: or honestly you can use `try` and `except` if you know how it works.*\n",
    "> - *Tip: Once you have the \"right\" rows of data, you're going to be looking for a certain tag inside*\n",
    "> - *Tip: Sometimes you can't say \"give me this class,\" and instead you have to say \"give me all of the `div` elements, and then give me the third one.\"*"
   ]
  },
  {
   "cell_type": "code",
   "execution_count": 95,
   "metadata": {},
   "outputs": [
    {
     "name": "stdout",
     "output_type": "stream",
     "text": [
      "Newberg Rock & Dirt  \n",
      "Bender Sand & Dirt  \n",
      "Dirt Company  \n",
      "Dirt Doctor Inc  \n",
      "Dirt Work Specialists LLC  \n",
      "Dirt Works  \n",
      "Holley Dirt Company, Inc  \n",
      "Krueger Brothers Gravel & Dirt  \n",
      "M R Dirt  \n",
      "M.R. Dirt Inc.  \n",
      "P B Dirt Movers, Inc  \n",
      "P B Dirt Movers, Inc.  \n",
      "PB Dirt Movers  \n",
      "Prescott Dirt, LLC  \n",
      "R D Blankenship Dirt Work LLC  \n",
      "Sand & Dirt, Inc  \n",
      "SIMPSON DIRTWORX LLC  \n",
      "SIMPSON DIRTWORX LLC  \n",
      "Spry's Dirt & Gravel, Inc.  \n",
      "Vogt Dirt Service  \n"
     ]
    }
   ],
   "source": [
    "for operator in operators[7:27]:\n",
    "    op_name = operator.find_elements_by_tag_name('font') \n",
    "    print(op_name[2].text)\n",
    " "
   ]
  },
  {
   "cell_type": "markdown",
   "metadata": {},
   "source": [
    "### Loop through each operator result, printing its ID\n",
    "\n",
    "There should be ONE code per row, and NO empty rows between them."
   ]
  },
  {
   "cell_type": "code",
   "execution_count": 94,
   "metadata": {},
   "outputs": [
    {
     "name": "stdout",
     "output_type": "stream",
     "text": [
      "3503598\n",
      "1401575\n",
      "5001797\n",
      "2103723\n",
      "2103914\n",
      "4104757\n",
      "0801306\n",
      "3901432\n",
      "3609624\n",
      "3609931\n",
      "1519799\n",
      "4407379\n",
      "4407296\n",
      "0203332\n",
      "2901986\n",
      "0801417\n",
      "4300768\n",
      "4300776\n",
      "2302283\n",
      "2103518\n"
     ]
    }
   ],
   "source": [
    "for operator in operators[7:27]:\n",
    "    op_name = operator.find_elements_by_tag_name('font') \n",
    "    print(op_name[0].text)"
   ]
  },
  {
   "cell_type": "markdown",
   "metadata": {},
   "source": [
    "## Saving the results\n",
    "\n",
    "### Loop through each `tr` to create a list of dictionaries\n",
    "\n",
    "Each dictionary must contain\n",
    "\n",
    "- Operator ID\n",
    "- Operator name\n",
    "- Mine name\n",
    "- State\n",
    "- Mine type\n",
    "- Coal or metal\n",
    "- Status\n",
    "- Commodity\n",
    "\n",
    "Create a new dictionary for each row.\n",
    "\n",
    "> - *Tip: Start with an empty dictionary, then add the keys one at a time like we did during class*\n",
    "> - *Tip: You might want to save all of the cells in a variable, then use indexes to get the second, third, fourth, etc.*\n",
    "> - *Tip: I know you already skipped a bunch of rows already, but one of them still might be bad! Which one is it? How can you skip it? You might need to slice out some of the end of your list, too. Use `print` to help you debug, or just look at the page closely.*\n",
    "> - *Tip: Or, if you did the other homework already, `try` / `except` is also an option*"
   ]
  },
  {
   "cell_type": "code",
   "execution_count": 102,
   "metadata": {
    "scrolled": true
   },
   "outputs": [
    {
     "name": "stdout",
     "output_type": "stream",
     "text": [
      "[{'Operator ID': '3503598', 'Operator name': 'Newberg Rock & Dirt  ', 'Mine name': 'Newberg Rock & Dirt', 'State': 'OR ', 'Mine type': 'Surface', 'Coal or metal': 'M ', 'Status': 'Active ', 'Commodity': 'Crushed, Broken Stone NEC '}, {'Operator ID': '1401575', 'Operator name': 'Bender Sand & Dirt  ', 'Mine name': 'BENDER SAND & DIRT', 'State': 'KS ', 'Mine type': 'Surface', 'Coal or metal': 'M ', 'Status': 'Intermittent ', 'Commodity': 'Construction Sand and Gravel '}, {'Operator ID': '5001797', 'Operator name': 'Dirt Company  ', 'Mine name': 'Bush Pilot', 'State': 'AK ', 'Mine type': 'Surface', 'Coal or metal': 'M ', 'Status': 'Intermittent ', 'Commodity': 'Construction Sand and Gravel '}, {'Operator ID': '2103723', 'Operator name': 'Dirt Doctor Inc  ', 'Mine name': 'Rock Lake Plant', 'State': 'MN ', 'Mine type': 'Surface', 'Coal or metal': 'M ', 'Status': 'Intermittent ', 'Commodity': 'Construction Sand and Gravel '}, {'Operator ID': '2103914', 'Operator name': 'Dirt Work Specialists LLC  ', 'Mine name': 'Astec Plant', 'State': 'MN ', 'Mine type': 'Surface', 'Coal or metal': 'M ', 'Status': 'Intermittent ', 'Commodity': 'Construction Sand and Gravel '}, {'Operator ID': '4104757', 'Operator name': 'Dirt Works  ', 'Mine name': 'Portable #1', 'State': 'TX ', 'Mine type': 'Surface', 'Coal or metal': 'M ', 'Status': 'Intermittent ', 'Commodity': 'Construction Sand and Gravel '}, {'Operator ID': '0801306', 'Operator name': 'Holley Dirt Company, Inc  ', 'Mine name': 'River Road Pit', 'State': 'FL ', 'Mine type': 'Surface', 'Coal or metal': 'M ', 'Status': 'Active ', 'Commodity': 'Sand, Common '}, {'Operator ID': '3901432', 'Operator name': 'Krueger Brothers Gravel & Dirt  ', 'Mine name': 'PORTABLE SCREENER', 'State': 'SD ', 'Mine type': 'Surface', 'Coal or metal': 'M ', 'Status': 'Intermittent ', 'Commodity': 'Construction Sand and Gravel '}, {'Operator ID': '3609624', 'Operator name': 'M R Dirt  ', 'Mine name': 'Forbes Pit', 'State': 'PA ', 'Mine type': 'Surface', 'Coal or metal': 'M ', 'Status': 'Temporarily Idled ', 'Commodity': 'Construction Sand and Gravel '}, {'Operator ID': '3609931', 'Operator name': 'M.R. Dirt Inc.  ', 'Mine name': 'Camptown Quarry', 'State': 'PA ', 'Mine type': 'Surface', 'Coal or metal': 'M ', 'Status': 'Intermittent ', 'Commodity': 'Dimension Stone NEC '}, {'Operator ID': '1519799', 'Operator name': 'P B Dirt Movers, Inc  ', 'Mine name': 'Fedscreek Surface', 'State': 'KY ', 'Mine type': 'Surface', 'Coal or metal': 'C ', 'Status': 'Active ', 'Commodity': 'Coal (Bituminous) '}, {'Operator ID': '4407379', 'Operator name': 'P B Dirt Movers, Inc.  ', 'Mine name': 'No. 3', 'State': 'VA ', 'Mine type': 'Surface', 'Coal or metal': 'C ', 'Status': 'New Mine ', 'Commodity': ' '}, {'Operator ID': '4407296', 'Operator name': 'PB Dirt Movers  ', 'Mine name': 'Mine No. 6', 'State': 'VA ', 'Mine type': 'Underground', 'Coal or metal': 'C ', 'Status': 'Temporarily Idled ', 'Commodity': 'Coal (Bituminous) '}, {'Operator ID': '0203332', 'Operator name': 'Prescott Dirt, LLC  ', 'Mine name': 'Sandretto Drive', 'State': 'AZ ', 'Mine type': 'Surface', 'Coal or metal': 'M ', 'Status': 'Intermittent ', 'Commodity': 'Construction Sand and Gravel '}, {'Operator ID': '2901986', 'Operator name': 'R D Blankenship Dirt Work LLC  ', 'Mine name': 'R D BLANKENSHIP DIRT WORK', 'State': 'NM ', 'Mine type': 'Surface', 'Coal or metal': 'M ', 'Status': 'Active ', 'Commodity': 'Construction Sand and Gravel '}, {'Operator ID': '0801417', 'Operator name': 'Sand & Dirt, Inc  ', 'Mine name': 'Molino Pit', 'State': 'FL ', 'Mine type': 'Surface', 'Coal or metal': 'M ', 'Status': 'Active ', 'Commodity': 'Sand, Common '}, {'Operator ID': '4300768', 'Operator name': 'SIMPSON DIRTWORX LLC  ', 'Mine name': 'Pettibone Jaw Crusher', 'State': 'VT ', 'Mine type': 'Surface', 'Coal or metal': 'M ', 'Status': 'Intermittent ', 'Commodity': 'Construction Sand and Gravel '}, {'Operator ID': '4300776', 'Operator name': 'SIMPSON DIRTWORX LLC  ', 'Mine name': 'Chieftan 1400', 'State': 'VT ', 'Mine type': 'Surface', 'Coal or metal': 'M ', 'Status': 'Intermittent ', 'Commodity': 'Construction Sand and Gravel '}, {'Operator ID': '2302283', 'Operator name': \"Spry's Dirt & Gravel, Inc.  \", 'Mine name': \"Mike's Money Pit\", 'State': 'MO ', 'Mine type': 'Surface', 'Coal or metal': 'M ', 'Status': 'Intermittent ', 'Commodity': 'Construction Sand and Gravel '}, {'Operator ID': '2103518', 'Operator name': 'Vogt Dirt Service  ', 'Mine name': 'Crusher', 'State': 'MN ', 'Mine type': 'Surface', 'Coal or metal': 'M ', 'Status': 'Intermittent ', 'Commodity': 'Construction Sand and Gravel '}]\n"
     ]
    }
   ],
   "source": [
    "mine_operators = []\n",
    "\n",
    "for operator in operators[7:27]:\n",
    "    op_name = operator.find_elements_by_tag_name('font') \n",
    "    \n",
    "    mine_info = {}\n",
    "    mine_info['Operator ID'] = op_name[0].text\n",
    "    mine_info['Operator name'] = op_name[2].text\n",
    "    mine_info['Mine name'] = op_name[3].text\n",
    "    mine_info['State'] = op_name[1].text\n",
    "    mine_info['Mine type'] = op_name[4].text\n",
    "    mine_info['Coal or metal'] = op_name[5].text\n",
    "    mine_info['Status'] = op_name[6].text\n",
    "    mine_info['Commodity'] = op_name[7].text\n",
    "    \n",
    "    mine_operators.append(mine_info)\n",
    "    \n",
    "print(mine_operators)"
   ]
  },
  {
   "cell_type": "markdown",
   "metadata": {},
   "source": [
    "### Save that to a CSV named `dirt-operators.csv`"
   ]
  },
  {
   "cell_type": "code",
   "execution_count": 112,
   "metadata": {},
   "outputs": [],
   "source": [
    "import pandas as pd"
   ]
  },
  {
   "cell_type": "code",
   "execution_count": 113,
   "metadata": {},
   "outputs": [
    {
     "data": {
      "text/html": [
       "<div>\n",
       "<style scoped>\n",
       "    .dataframe tbody tr th:only-of-type {\n",
       "        vertical-align: middle;\n",
       "    }\n",
       "\n",
       "    .dataframe tbody tr th {\n",
       "        vertical-align: top;\n",
       "    }\n",
       "\n",
       "    .dataframe thead th {\n",
       "        text-align: right;\n",
       "    }\n",
       "</style>\n",
       "<table border=\"1\" class=\"dataframe\">\n",
       "  <thead>\n",
       "    <tr style=\"text-align: right;\">\n",
       "      <th></th>\n",
       "      <th>Coal or metal</th>\n",
       "      <th>Commodity</th>\n",
       "      <th>Mine name</th>\n",
       "      <th>Mine type</th>\n",
       "      <th>Operator ID</th>\n",
       "      <th>Operator name</th>\n",
       "      <th>State</th>\n",
       "      <th>Status</th>\n",
       "    </tr>\n",
       "  </thead>\n",
       "  <tbody>\n",
       "    <tr>\n",
       "      <th>0</th>\n",
       "      <td>M</td>\n",
       "      <td>Crushed, Broken Stone NEC</td>\n",
       "      <td>Newberg Rock &amp; Dirt</td>\n",
       "      <td>Surface</td>\n",
       "      <td>3503598</td>\n",
       "      <td>Newberg Rock &amp; Dirt</td>\n",
       "      <td>OR</td>\n",
       "      <td>Active</td>\n",
       "    </tr>\n",
       "    <tr>\n",
       "      <th>1</th>\n",
       "      <td>M</td>\n",
       "      <td>Construction Sand and Gravel</td>\n",
       "      <td>BENDER SAND &amp; DIRT</td>\n",
       "      <td>Surface</td>\n",
       "      <td>1401575</td>\n",
       "      <td>Bender Sand &amp; Dirt</td>\n",
       "      <td>KS</td>\n",
       "      <td>Intermittent</td>\n",
       "    </tr>\n",
       "    <tr>\n",
       "      <th>2</th>\n",
       "      <td>M</td>\n",
       "      <td>Construction Sand and Gravel</td>\n",
       "      <td>Bush Pilot</td>\n",
       "      <td>Surface</td>\n",
       "      <td>5001797</td>\n",
       "      <td>Dirt Company</td>\n",
       "      <td>AK</td>\n",
       "      <td>Intermittent</td>\n",
       "    </tr>\n",
       "    <tr>\n",
       "      <th>3</th>\n",
       "      <td>M</td>\n",
       "      <td>Construction Sand and Gravel</td>\n",
       "      <td>Rock Lake Plant</td>\n",
       "      <td>Surface</td>\n",
       "      <td>2103723</td>\n",
       "      <td>Dirt Doctor Inc</td>\n",
       "      <td>MN</td>\n",
       "      <td>Intermittent</td>\n",
       "    </tr>\n",
       "    <tr>\n",
       "      <th>4</th>\n",
       "      <td>M</td>\n",
       "      <td>Construction Sand and Gravel</td>\n",
       "      <td>Astec Plant</td>\n",
       "      <td>Surface</td>\n",
       "      <td>2103914</td>\n",
       "      <td>Dirt Work Specialists LLC</td>\n",
       "      <td>MN</td>\n",
       "      <td>Intermittent</td>\n",
       "    </tr>\n",
       "  </tbody>\n",
       "</table>\n",
       "</div>"
      ],
      "text/plain": [
       "  Coal or metal                      Commodity            Mine name Mine type  \\\n",
       "0            M      Crushed, Broken Stone NEC   Newberg Rock & Dirt   Surface   \n",
       "1            M   Construction Sand and Gravel    BENDER SAND & DIRT   Surface   \n",
       "2            M   Construction Sand and Gravel            Bush Pilot   Surface   \n",
       "3            M   Construction Sand and Gravel       Rock Lake Plant   Surface   \n",
       "4            M   Construction Sand and Gravel           Astec Plant   Surface   \n",
       "\n",
       "  Operator ID                Operator name State         Status  \n",
       "0     3503598        Newberg Rock & Dirt     OR         Active   \n",
       "1     1401575         Bender Sand & Dirt     KS   Intermittent   \n",
       "2     5001797               Dirt Company     AK   Intermittent   \n",
       "3     2103723            Dirt Doctor Inc     MN   Intermittent   \n",
       "4     2103914  Dirt Work Specialists LLC     MN   Intermittent   "
      ]
     },
     "execution_count": 113,
     "metadata": {},
     "output_type": "execute_result"
    }
   ],
   "source": [
    "df = pd.DataFrame(mine_operators)\n",
    "df.head()"
   ]
  },
  {
   "cell_type": "code",
   "execution_count": 114,
   "metadata": {},
   "outputs": [
    {
     "data": {
      "text/html": [
       "<div>\n",
       "<style scoped>\n",
       "    .dataframe tbody tr th:only-of-type {\n",
       "        vertical-align: middle;\n",
       "    }\n",
       "\n",
       "    .dataframe tbody tr th {\n",
       "        vertical-align: top;\n",
       "    }\n",
       "\n",
       "    .dataframe thead th {\n",
       "        text-align: right;\n",
       "    }\n",
       "</style>\n",
       "<table border=\"1\" class=\"dataframe\">\n",
       "  <thead>\n",
       "    <tr style=\"text-align: right;\">\n",
       "      <th></th>\n",
       "      <th>Operator ID</th>\n",
       "      <th>Operator name</th>\n",
       "      <th>Mine name</th>\n",
       "      <th>State</th>\n",
       "      <th>Mine type</th>\n",
       "      <th>Coal or metal</th>\n",
       "      <th>Status</th>\n",
       "      <th>Commodity</th>\n",
       "    </tr>\n",
       "  </thead>\n",
       "  <tbody>\n",
       "    <tr>\n",
       "      <th>0</th>\n",
       "      <td>3503598</td>\n",
       "      <td>Newberg Rock &amp; Dirt</td>\n",
       "      <td>Newberg Rock &amp; Dirt</td>\n",
       "      <td>OR</td>\n",
       "      <td>Surface</td>\n",
       "      <td>M</td>\n",
       "      <td>Active</td>\n",
       "      <td>Crushed, Broken Stone NEC</td>\n",
       "    </tr>\n",
       "    <tr>\n",
       "      <th>1</th>\n",
       "      <td>1401575</td>\n",
       "      <td>Bender Sand &amp; Dirt</td>\n",
       "      <td>BENDER SAND &amp; DIRT</td>\n",
       "      <td>KS</td>\n",
       "      <td>Surface</td>\n",
       "      <td>M</td>\n",
       "      <td>Intermittent</td>\n",
       "      <td>Construction Sand and Gravel</td>\n",
       "    </tr>\n",
       "    <tr>\n",
       "      <th>2</th>\n",
       "      <td>5001797</td>\n",
       "      <td>Dirt Company</td>\n",
       "      <td>Bush Pilot</td>\n",
       "      <td>AK</td>\n",
       "      <td>Surface</td>\n",
       "      <td>M</td>\n",
       "      <td>Intermittent</td>\n",
       "      <td>Construction Sand and Gravel</td>\n",
       "    </tr>\n",
       "    <tr>\n",
       "      <th>3</th>\n",
       "      <td>2103723</td>\n",
       "      <td>Dirt Doctor Inc</td>\n",
       "      <td>Rock Lake Plant</td>\n",
       "      <td>MN</td>\n",
       "      <td>Surface</td>\n",
       "      <td>M</td>\n",
       "      <td>Intermittent</td>\n",
       "      <td>Construction Sand and Gravel</td>\n",
       "    </tr>\n",
       "    <tr>\n",
       "      <th>4</th>\n",
       "      <td>2103914</td>\n",
       "      <td>Dirt Work Specialists LLC</td>\n",
       "      <td>Astec Plant</td>\n",
       "      <td>MN</td>\n",
       "      <td>Surface</td>\n",
       "      <td>M</td>\n",
       "      <td>Intermittent</td>\n",
       "      <td>Construction Sand and Gravel</td>\n",
       "    </tr>\n",
       "  </tbody>\n",
       "</table>\n",
       "</div>"
      ],
      "text/plain": [
       "  Operator ID                Operator name            Mine name State  \\\n",
       "0     3503598        Newberg Rock & Dirt    Newberg Rock & Dirt   OR    \n",
       "1     1401575         Bender Sand & Dirt     BENDER SAND & DIRT   KS    \n",
       "2     5001797               Dirt Company             Bush Pilot   AK    \n",
       "3     2103723            Dirt Doctor Inc        Rock Lake Plant   MN    \n",
       "4     2103914  Dirt Work Specialists LLC            Astec Plant   MN    \n",
       "\n",
       "  Mine type Coal or metal         Status                      Commodity  \n",
       "0   Surface            M         Active      Crushed, Broken Stone NEC   \n",
       "1   Surface            M   Intermittent   Construction Sand and Gravel   \n",
       "2   Surface            M   Intermittent   Construction Sand and Gravel   \n",
       "3   Surface            M   Intermittent   Construction Sand and Gravel   \n",
       "4   Surface            M   Intermittent   Construction Sand and Gravel   "
      ]
     },
     "execution_count": 114,
     "metadata": {},
     "output_type": "execute_result"
    }
   ],
   "source": [
    "df = df[['Operator ID', 'Operator name', 'Mine name', 'State', 'Mine type', 'Coal or metal', 'Status', 'Commodity']]\n",
    "df.head()"
   ]
  },
  {
   "cell_type": "code",
   "execution_count": 115,
   "metadata": {},
   "outputs": [],
   "source": [
    "df.to_csv(\"dirt-operators.csv\", index=False)"
   ]
  },
  {
   "cell_type": "markdown",
   "metadata": {},
   "source": [
    "### Open the CSV file and examine the first few.\n",
    "\n",
    "Make sure you didn't save that extra weird unnamed index column."
   ]
  },
  {
   "cell_type": "code",
   "execution_count": 117,
   "metadata": {},
   "outputs": [],
   "source": [
    "df = pd.read_csv(\"dirt-operators.csv\")"
   ]
  },
  {
   "cell_type": "code",
   "execution_count": 119,
   "metadata": {},
   "outputs": [
    {
     "data": {
      "text/html": [
       "<div>\n",
       "<style scoped>\n",
       "    .dataframe tbody tr th:only-of-type {\n",
       "        vertical-align: middle;\n",
       "    }\n",
       "\n",
       "    .dataframe tbody tr th {\n",
       "        vertical-align: top;\n",
       "    }\n",
       "\n",
       "    .dataframe thead th {\n",
       "        text-align: right;\n",
       "    }\n",
       "</style>\n",
       "<table border=\"1\" class=\"dataframe\">\n",
       "  <thead>\n",
       "    <tr style=\"text-align: right;\">\n",
       "      <th></th>\n",
       "      <th>Operator ID</th>\n",
       "      <th>Operator name</th>\n",
       "      <th>Mine name</th>\n",
       "      <th>State</th>\n",
       "      <th>Mine type</th>\n",
       "      <th>Coal or metal</th>\n",
       "      <th>Status</th>\n",
       "      <th>Commodity</th>\n",
       "    </tr>\n",
       "  </thead>\n",
       "  <tbody>\n",
       "    <tr>\n",
       "      <th>0</th>\n",
       "      <td>3503598</td>\n",
       "      <td>Newberg Rock &amp; Dirt</td>\n",
       "      <td>Newberg Rock &amp; Dirt</td>\n",
       "      <td>OR</td>\n",
       "      <td>Surface</td>\n",
       "      <td>M</td>\n",
       "      <td>Active</td>\n",
       "      <td>Crushed, Broken Stone NEC</td>\n",
       "    </tr>\n",
       "    <tr>\n",
       "      <th>1</th>\n",
       "      <td>1401575</td>\n",
       "      <td>Bender Sand &amp; Dirt</td>\n",
       "      <td>BENDER SAND &amp; DIRT</td>\n",
       "      <td>KS</td>\n",
       "      <td>Surface</td>\n",
       "      <td>M</td>\n",
       "      <td>Intermittent</td>\n",
       "      <td>Construction Sand and Gravel</td>\n",
       "    </tr>\n",
       "    <tr>\n",
       "      <th>2</th>\n",
       "      <td>5001797</td>\n",
       "      <td>Dirt Company</td>\n",
       "      <td>Bush Pilot</td>\n",
       "      <td>AK</td>\n",
       "      <td>Surface</td>\n",
       "      <td>M</td>\n",
       "      <td>Intermittent</td>\n",
       "      <td>Construction Sand and Gravel</td>\n",
       "    </tr>\n",
       "    <tr>\n",
       "      <th>3</th>\n",
       "      <td>2103723</td>\n",
       "      <td>Dirt Doctor Inc</td>\n",
       "      <td>Rock Lake Plant</td>\n",
       "      <td>MN</td>\n",
       "      <td>Surface</td>\n",
       "      <td>M</td>\n",
       "      <td>Intermittent</td>\n",
       "      <td>Construction Sand and Gravel</td>\n",
       "    </tr>\n",
       "    <tr>\n",
       "      <th>4</th>\n",
       "      <td>2103914</td>\n",
       "      <td>Dirt Work Specialists LLC</td>\n",
       "      <td>Astec Plant</td>\n",
       "      <td>MN</td>\n",
       "      <td>Surface</td>\n",
       "      <td>M</td>\n",
       "      <td>Intermittent</td>\n",
       "      <td>Construction Sand and Gravel</td>\n",
       "    </tr>\n",
       "  </tbody>\n",
       "</table>\n",
       "</div>"
      ],
      "text/plain": [
       "   Operator ID                Operator name            Mine name State  \\\n",
       "0      3503598        Newberg Rock & Dirt    Newberg Rock & Dirt   OR    \n",
       "1      1401575         Bender Sand & Dirt     BENDER SAND & DIRT   KS    \n",
       "2      5001797               Dirt Company             Bush Pilot   AK    \n",
       "3      2103723            Dirt Doctor Inc        Rock Lake Plant   MN    \n",
       "4      2103914  Dirt Work Specialists LLC            Astec Plant   MN    \n",
       "\n",
       "  Mine type Coal or metal         Status                      Commodity  \n",
       "0   Surface            M         Active      Crushed, Broken Stone NEC   \n",
       "1   Surface            M   Intermittent   Construction Sand and Gravel   \n",
       "2   Surface            M   Intermittent   Construction Sand and Gravel   \n",
       "3   Surface            M   Intermittent   Construction Sand and Gravel   \n",
       "4   Surface            M   Intermittent   Construction Sand and Gravel   "
      ]
     },
     "execution_count": 119,
     "metadata": {},
     "output_type": "execute_result"
    }
   ],
   "source": [
    "df.head()"
   ]
  }
 ],
 "metadata": {
  "kernelspec": {
   "display_name": "Python 3",
   "language": "python",
   "name": "python3"
  },
  "language_info": {
   "codemirror_mode": {
    "name": "ipython",
    "version": 3
   },
   "file_extension": ".py",
   "mimetype": "text/x-python",
   "name": "python",
   "nbconvert_exporter": "python",
   "pygments_lexer": "ipython3",
   "version": "3.6.5"
  }
 },
 "nbformat": 4,
 "nbformat_minor": 2
}
