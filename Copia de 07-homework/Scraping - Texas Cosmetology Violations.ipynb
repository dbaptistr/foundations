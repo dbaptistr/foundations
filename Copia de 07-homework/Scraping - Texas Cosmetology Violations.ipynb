{
 "cells": [
  {
   "cell_type": "markdown",
   "metadata": {},
   "source": [
    "# Texas Cosmetologist Violations\n",
    "\n",
    "Texas has a system for [searching for license violations](https://www.tdlr.texas.gov/cimsfo/fosearch.asp). You're going to search for cosmetologists!"
   ]
  },
  {
   "cell_type": "markdown",
   "metadata": {},
   "source": [
    "## Setup: Import what you'll need to scrape the page\n",
    "\n",
    "We'll be using Selenium for this, *not* BeautifulSoup and requests."
   ]
  },
  {
   "cell_type": "code",
   "execution_count": 1,
   "metadata": {},
   "outputs": [],
   "source": [
    "from selenium import webdriver\n",
    "from selenium.webdriver.common.keys import Keys\n",
    "from selenium.webdriver.support.ui import Select\n",
    "from selenium.webdriver.support.ui import WebDriverWait"
   ]
  },
  {
   "cell_type": "markdown",
   "metadata": {
    "collapsed": true
   },
   "source": [
    "## Starting your search\n",
    "\n",
    "Starting from [here](https://www.tdlr.texas.gov/cimsfo/fosearch.asp), search for cosmetologist violations for people with the last name **Nguyen**."
   ]
  },
  {
   "cell_type": "code",
   "execution_count": 2,
   "metadata": {},
   "outputs": [],
   "source": [
    "driver = webdriver.Chrome()"
   ]
  },
  {
   "cell_type": "code",
   "execution_count": 3,
   "metadata": {},
   "outputs": [],
   "source": [
    "driver.get(\"https://www.tdlr.texas.gov/cimsfo/fosearch.asp\")"
   ]
  },
  {
   "cell_type": "code",
   "execution_count": 4,
   "metadata": {},
   "outputs": [],
   "source": [
    "last_name = driver.find_element_by_xpath('//*[@id=\"dat-menu\"]/div/div[2]/div/div/section/div/div/table/tbody/tr/td/form/table/tbody/tr[7]/td/p/input')\n",
    "last_name.send_keys(\"Nguyen\")"
   ]
  },
  {
   "cell_type": "code",
   "execution_count": 5,
   "metadata": {},
   "outputs": [],
   "source": [
    "button = driver.find_element_by_xpath('//*[@id=\"dat-menu\"]/div/div[2]/div/div/section/div/div/table/tbody/tr/td/form/table/tbody/tr[18]/td/input[1]')\n",
    "driver.execute_script(\"arguments[0].scrollIntoView(true)\", button)\n",
    "button.click()"
   ]
  },
  {
   "cell_type": "markdown",
   "metadata": {},
   "source": [
    "## Scraping\n",
    "\n",
    "Once you are on the results page, do this."
   ]
  },
  {
   "cell_type": "markdown",
   "metadata": {},
   "source": [
    "### Loop through each result and print the entire row\n",
    "\n",
    "Okay wait, that's a heck of a lot. Use `[:10]` to only do the first ten (`listname[:10]` gives you the first ten)."
   ]
  },
  {
   "cell_type": "code",
   "execution_count": 6,
   "metadata": {},
   "outputs": [
    {
     "name": "stdout",
     "output_type": "stream",
     "text": [
      "Name and Location Order Basis for Order\n",
      "NGUYEN, TOAN HUU\n",
      "City: SAN ANTONIO\n",
      "County: BEXAR\n",
      "Zip Code: 78217\n",
      "\n",
      "\n",
      "License #(s): 780948, 1706491, 1699123\n",
      "\n",
      "Complaint # COS20180004289 Date: 5/30/2018\n",
      "\n",
      "Respondent is assessed an administrative penalty in the amount of $500. Respondent failed to clean and sanitize whirlpool foot spas as required at the end of each day.\n",
      "NGUYEN, HANH CONG\n",
      "City: EL PASO\n",
      "County: EL PASO\n",
      "Zip Code: 79934\n",
      "\n",
      "\n",
      "License #: 737708\n",
      "\n",
      "Complaint # COS20180006594 Date: 5/30/2018\n",
      "\n",
      "Respondent is assessed an administrative penalty in the amount of $1,000. Respondent failed to clean and sanitize whirlpool foot spas as required at the end of each day; Respondent failed to use items subject to possible cross contamination in a manner that does not contaminate the remaining product.\n",
      "NGUYEN, KHIEM VAN\n",
      "City: LONGVIEW\n",
      "County: GREGG\n",
      "Zip Code: 75604\n",
      "\n",
      "\n",
      "License #: 731665\n",
      "\n",
      "Complaint # COS20180000257 Date: 5/17/2018\n",
      "\n",
      "Respondent is assessed an administrative penalty in the amount of $1,250. Respondent failed to follow whirlpool foot spas cleaning and sanitization procedures as required; Respondent failed to clean, disinfect, and sterilize manicure and pedicure implements after each use; Respondent failed to clean and disinfect all wax pots.\n",
      "NGUYEN, DIEP THI NGOC\n",
      "City: HOUSTON\n",
      "County: HARRIS\n",
      "Zip Code: 77014\n",
      "\n",
      "\n",
      "License #(s): 1347649, 760528\n",
      "\n",
      "Complaint # COS20180004915 Date: 5/17/2018\n",
      "\n",
      "Respondent is assessed an administrative penalty in the amount of $500. Respondent failed to disinfect tools, implements, and supplies with an EPA-registered disinfectant solution; Respondent failed to disinfect multi-use equipment, implements, and tools prior to use on each client.\n",
      "NGUYEN, LAN T-THUY\n",
      "City: SAN ANTONIO\n",
      "County: BEXAR\n",
      "Zip Code: 78255\n",
      "\n",
      "NGUYEN, SAMLOI\n",
      "City: SAN ANTONIO\n",
      "County: BEXAR\n",
      "Zip Code: 78255\n",
      "\n",
      "\n",
      "License #: 767339\n",
      "\n",
      "Complaint # COS20180009255 Date: 5/17/2018\n",
      "\n",
      "Respondent is assessed an administrative penalty in the amount of $575. Respondent failed to clean, disinfect, and sterilize manicure and pedicure implements after each use.\n",
      "NGUYEN, TUAN A\n",
      "City: AUSTIN\n",
      "County: TRAVIS\n",
      "Zip Code: 78723\n",
      "\n",
      "NGUYEN, TUAN VAN\n",
      "City: ARLINGTON\n",
      "County: TARRANT\n",
      "Zip Code: 76011\n",
      "\n",
      "\n",
      "License #: 681274\n",
      "\n",
      "Complaint # COS20140018343 Date: 5/9/2018\n",
      "\n",
      "Respondent is assessed an administrative penalty in the amount of $1,000. Respondent failed to clean and disinfect all wax pots; Respondent failed to disinfect tools, implements, and supplies with a hospital-grade EPA-registered disinfectant solution; Respondent failed to replace materials that contact skin, or skin products from multi-use containers, with new or clean articles for each client.\n",
      "NGUYEN, THAO B\n",
      "City: EULESS\n",
      "County: TARRANT\n",
      "Zip Code: 76039\n",
      "\n",
      "\n",
      "License #(s): 721373, 1142884\n",
      "\n",
      "Complaint # COS20180008846 Date: 5/9/2018\n",
      "\n",
      "Respondent is assessed an administrative penalty in the amount of $750. Respondent failed to clean and sanitize whirlpool foot spas as required at the end of each day.\n",
      "NGUYEN, BETH MARIA\n",
      "City: HOUSTON\n",
      "County: HARRIS\n",
      "Zip Code: 77083\n",
      "\n",
      "\n",
      "License #: 1470271\n",
      "\n",
      "Complaint # COS20180000897 Date: 4/30/2018\n",
      "\n",
      "Respondent's Cosmetology Operator license was revoked by operation of law on 03/29/16. The Respondent's license was revoked upon Respondent's imprisonment in a penitentiary.\n",
      "NGUYEN, KENNEY TUAN\n",
      "City: CEDAR PARK\n",
      "County: WILLIAMSON\n",
      "Zip Code: 78613\n",
      "\n",
      "\n",
      "License #: 692892\n",
      "\n",
      "Complaint # BAR20180001231 Date: 4/25/2018\n",
      "\n",
      "Respondent is assessed an administrative penalty in the amount of $750. Respondent leased space in a barber shop to an individual who engaged in the practice of barbering but had not obtained a barber license.\n",
      "NGUYEN, TRUNG N\n",
      "City: AMARILLO\n",
      "County: POTTER\n",
      "Zip Code: 79106\n",
      "\n",
      "\n",
      "License #(s): 1196244, 767015, 767014\n",
      "\n",
      "Complaint # COS20170023893 Date: 4/25/2018\n",
      "\n",
      "Respondent is assessed an administrative penalty in the amount of $1,300. Respondent failed to clean, disinfect, and sterilize manicure and pedicure implements after each use.\n"
     ]
    }
   ],
   "source": [
    "cosmetologists = driver.find_elements_by_tag_name('tr')\n",
    "for cosmetologist in cosmetologists[0:11]:\n",
    "    print(cosmetologist.text)\n"
   ]
  },
  {
   "cell_type": "markdown",
   "metadata": {},
   "source": [
    "### Loop through each result and print each person's name\n",
    "\n",
    "You'll get an error because the first one doesn't have a name. How do you make that not happen?! If you want to ignore an error, you use code like this:\n",
    "\n",
    "```python\n",
    "try:\n",
    "   try to do something\n",
    "except:\n",
    "   print(\"It didn't work')\n",
    "```\n",
    "\n",
    "It should help you out. If you don't want to print anything, you can type `pass` instead of the `print` statement.\n",
    "\n",
    "**Why doesn't the first one have a name?**"
   ]
  },
  {
   "cell_type": "code",
   "execution_count": 30,
   "metadata": {},
   "outputs": [
    {
     "name": "stdout",
     "output_type": "stream",
     "text": [
      "NGUYEN, TOAN HUU\n",
      "NGUYEN, HANH CONG\n",
      "NGUYEN, KHIEM VAN\n",
      "NGUYEN, DIEP THI NGOC\n",
      "NGUYEN, LAN T-THUY\n",
      "NGUYEN, TUAN A\n",
      "NGUYEN, THAO B\n",
      "NGUYEN, BETH MARIA\n",
      "NGUYEN, KENNEY TUAN\n",
      "NGUYEN, TRUNG N\n"
     ]
    }
   ],
   "source": [
    "for cosmetologist in cosmetologists[1:11]:\n",
    "    cos_names = cosmetologist.find_elements_by_tag_name('span')\n",
    "    print(cos_names[0].text)\n",
    "\n",
    "    "
   ]
  },
  {
   "cell_type": "markdown",
   "metadata": {},
   "source": [
    "## Loop through each result, printing each violation description (\"Basis for order\")\n",
    "\n",
    "> - *Tip: You'll get an error even if you're ALMOST right - which row is causing the problem?*\n",
    "> - *Tip: You can get the HTML of something by doing `.get_attribute('innerHTML')` - it might help you diagnose your issue.*\n",
    "> - *Tip: Or I guess you could just skip the one with the problem..."
   ]
  },
  {
   "cell_type": "code",
   "execution_count": 8,
   "metadata": {},
   "outputs": [
    {
     "name": "stdout",
     "output_type": "stream",
     "text": [
      "Respondent failed to clean and sanitize whirlpool foot spas as required at the end of each day.\n",
      "Respondent failed to clean and sanitize whirlpool foot spas as required at the end of each day; Respondent failed to use items subject to possible cross contamination in a manner that does not contaminate the remaining product.\n",
      "Respondent failed to follow whirlpool foot spas cleaning and sanitization procedures as required; Respondent failed to clean, disinfect, and sterilize manicure and pedicure implements after each use; Respondent failed to clean and disinfect all wax pots.\n",
      "Respondent failed to disinfect tools, implements, and supplies with an EPA-registered disinfectant solution; Respondent failed to disinfect multi-use equipment, implements, and tools prior to use on each client.\n",
      "Respondent failed to clean, disinfect, and sterilize manicure and pedicure implements after each use.\n",
      "Respondent failed to clean and disinfect all wax pots; Respondent failed to disinfect tools, implements, and supplies with a hospital-grade EPA-registered disinfectant solution; Respondent failed to replace materials that contact skin, or skin products from multi-use containers, with new or clean articles for each client.\n",
      "Respondent failed to clean and sanitize whirlpool foot spas as required at the end of each day.\n",
      "The Respondent's license was revoked upon Respondent's imprisonment in a penitentiary.\n",
      "Respondent leased space in a barber shop to an individual who engaged in the practice of barbering but had not obtained a barber license.\n",
      "Respondent failed to clean, disinfect, and sterilize manicure and pedicure implements after each use.\n"
     ]
    }
   ],
   "source": [
    "cosmetologists = driver.find_elements_by_tag_name('tr')\n",
    "for cosmetologist in cosmetologists[1:11]:\n",
    "    cos_names = cosmetologist.find_elements_by_tag_name('td')\n",
    "    print(cos_names[2].text)"
   ]
  },
  {
   "cell_type": "markdown",
   "metadata": {},
   "source": [
    "## Loop through each result, printing the complaint number\n",
    "\n",
    "- TIP: Think about the order of the elements"
   ]
  },
  {
   "cell_type": "code",
   "execution_count": 9,
   "metadata": {},
   "outputs": [
    {
     "name": "stdout",
     "output_type": "stream",
     "text": [
      "COS20180004289\n",
      "COS20180006594\n",
      "COS20180000257\n",
      "COS20180004915\n",
      "County:\n",
      "County:\n",
      "COS20180008846\n",
      "COS20180000897\n",
      "BAR20180001231\n",
      "COS20170023893\n"
     ]
    }
   ],
   "source": [
    "cosmetologists = driver.find_elements_by_tag_name('tr')\n",
    "for cosmetologist in cosmetologists[1:11]:\n",
    "    cos_names = cosmetologist.find_elements_by_tag_name('span')\n",
    "    print(cos_names[10].text)"
   ]
  },
  {
   "cell_type": "markdown",
   "metadata": {},
   "source": [
    "## Saving the results\n",
    "\n",
    "### Loop through each result to create a list of dictionaries\n",
    "\n",
    "Each dictionary must contain\n",
    "\n",
    "- Person's name\n",
    "- Violation description\n",
    "- Violation number\n",
    "- License Numbers\n",
    "- Zip Code\n",
    "- County\n",
    "- City\n",
    "\n",
    "Create a new dictionary for each result (except the header).\n",
    "\n",
    "> *Tip: If you want to ask for the \"next sibling,\" you can't use `find_next_sibling` in Selenium, you need to use `element.find_element_by_xpath(\"following-sibling::div\")` to find the next div, or `element.find_element_by_xpath(\"following-sibling::*\")` to find the next anything."
   ]
  },
  {
   "cell_type": "code",
   "execution_count": 13,
   "metadata": {},
   "outputs": [],
   "source": [
    "cosmetologists = driver.find_elements_by_tag_name('tr')\n",
    "\n",
    "for cosmetologist in cosmetologists[1:11]:\n",
    "    cos_names = cosmetologist.find_elements_by_tag_name('span')\n",
    "    cos_names[1].text"
   ]
  },
  {
   "cell_type": "code",
   "execution_count": 33,
   "metadata": {},
   "outputs": [
    {
     "name": "stdout",
     "output_type": "stream",
     "text": [
      "[{'Name of the person': 'NGUYEN, TOAN HUU', 'Violation number': 'COS20180004289', 'License Numbers': '780948, 1706491, 1699123', 'Zip Code': '78217', 'County': 'BEXAR', 'City': 'SAN ANTONIO', 'Violation description': 'Respondent failed to clean and sanitize whirlpool foot spas as required at the end of each day.'}, {'Name of the person': 'NGUYEN, HANH CONG', 'Violation number': 'COS20180006594', 'License Numbers': '737708', 'Zip Code': '79934', 'County': 'EL PASO', 'City': 'EL PASO', 'Violation description': 'Respondent failed to clean and sanitize whirlpool foot spas as required at the end of each day; Respondent failed to use items subject to possible cross contamination in a manner that does not contaminate the remaining product.'}, {'Name of the person': 'NGUYEN, KHIEM VAN', 'Violation number': 'COS20180000257', 'License Numbers': '731665', 'Zip Code': '75604', 'County': 'GREGG', 'City': 'LONGVIEW', 'Violation description': 'Respondent failed to follow whirlpool foot spas cleaning and sanitization procedures as required; Respondent failed to clean, disinfect, and sterilize manicure and pedicure implements after each use; Respondent failed to clean and disinfect all wax pots.'}, {'Name of the person': 'NGUYEN, DIEP THI NGOC', 'Violation number': 'COS20180004915', 'License Numbers': '1347649, 760528', 'Zip Code': '77014', 'County': 'HARRIS', 'City': 'HOUSTON', 'Violation description': 'Respondent failed to disinfect tools, implements, and supplies with an EPA-registered disinfectant solution; Respondent failed to disinfect multi-use equipment, implements, and tools prior to use on each client.'}, {'Name of the person': 'NGUYEN, LAN T-THUY', 'Violation number': 'County:', 'License Numbers': 'City:', 'Zip Code': '78255', 'County': 'BEXAR', 'City': 'SAN ANTONIO', 'Violation description': 'Respondent failed to clean, disinfect, and sterilize manicure and pedicure implements after each use.'}, {'Name of the person': 'NGUYEN, TUAN A', 'Violation number': 'County:', 'License Numbers': 'City:', 'Zip Code': '78723', 'County': 'TRAVIS', 'City': 'AUSTIN', 'Violation description': 'Respondent failed to clean and disinfect all wax pots; Respondent failed to disinfect tools, implements, and supplies with a hospital-grade EPA-registered disinfectant solution; Respondent failed to replace materials that contact skin, or skin products from multi-use containers, with new or clean articles for each client.'}, {'Name of the person': 'NGUYEN, THAO B', 'Violation number': 'COS20180008846', 'License Numbers': '721373, 1142884', 'Zip Code': '76039', 'County': 'TARRANT', 'City': 'EULESS', 'Violation description': 'Respondent failed to clean and sanitize whirlpool foot spas as required at the end of each day.'}, {'Name of the person': 'NGUYEN, BETH MARIA', 'Violation number': 'COS20180000897', 'License Numbers': '1470271', 'Zip Code': '77083', 'County': 'HARRIS', 'City': 'HOUSTON', 'Violation description': \"The Respondent's license was revoked upon Respondent's imprisonment in a penitentiary.\"}, {'Name of the person': 'NGUYEN, KENNEY TUAN', 'Violation number': 'BAR20180001231', 'License Numbers': '692892', 'Zip Code': '78613', 'County': 'WILLIAMSON', 'City': 'CEDAR PARK', 'Violation description': 'Respondent leased space in a barber shop to an individual who engaged in the practice of barbering but had not obtained a barber license.'}, {'Name of the person': 'NGUYEN, TRUNG N', 'Violation number': 'COS20170023893', 'License Numbers': '1196244, 767015, 767014', 'Zip Code': '79106', 'County': 'POTTER', 'City': 'AMARILLO', 'Violation description': 'Respondent failed to clean, disinfect, and sterilize manicure and pedicure implements after each use.'}]\n"
     ]
    }
   ],
   "source": [
    "cosmetic_violations = []\n",
    "\n",
    "for cosmetologist in cosmetologists[1:11]:\n",
    "    cos_names = cosmetologist.find_elements_by_tag_name('span')\n",
    "    \n",
    "    \n",
    "    cosmetic_info = {}\n",
    "    cosmetic_info['Name of the person'] = cos_names[0].text\n",
    "    cosmetic_info['Violation number'] = cos_names[10].text\n",
    "    cosmetic_info['License Numbers'] = cos_names[8].text\n",
    "    cosmetic_info['Zip Code'] = cos_names[6].text\n",
    "    cosmetic_info['County'] = cos_names[4].text\n",
    "    cosmetic_info['City'] = cos_names[2].text\n",
    "    \n",
    "    cos_names1 = cosmetologist.find_elements_by_tag_name('td')\n",
    "    cosmetic_info['Violation description'] = cos_names1[2].text\n",
    "    \n",
    "    cosmetic_violations.append(cosmetic_info)\n",
    "    \n",
    "    \n",
    "print(cosmetic_violations)"
   ]
  },
  {
   "cell_type": "markdown",
   "metadata": {},
   "source": [
    "### Save that to a CSV\n",
    "\n",
    "- Tip: You'll want to use pandas here"
   ]
  },
  {
   "cell_type": "code",
   "execution_count": 34,
   "metadata": {},
   "outputs": [],
   "source": [
    "import pandas as pd"
   ]
  },
  {
   "cell_type": "code",
   "execution_count": 35,
   "metadata": {},
   "outputs": [
    {
     "data": {
      "text/html": [
       "<div>\n",
       "<style scoped>\n",
       "    .dataframe tbody tr th:only-of-type {\n",
       "        vertical-align: middle;\n",
       "    }\n",
       "\n",
       "    .dataframe tbody tr th {\n",
       "        vertical-align: top;\n",
       "    }\n",
       "\n",
       "    .dataframe thead th {\n",
       "        text-align: right;\n",
       "    }\n",
       "</style>\n",
       "<table border=\"1\" class=\"dataframe\">\n",
       "  <thead>\n",
       "    <tr style=\"text-align: right;\">\n",
       "      <th></th>\n",
       "      <th>City</th>\n",
       "      <th>County</th>\n",
       "      <th>License Numbers</th>\n",
       "      <th>Name of the person</th>\n",
       "      <th>Violation description</th>\n",
       "      <th>Violation number</th>\n",
       "      <th>Zip Code</th>\n",
       "    </tr>\n",
       "  </thead>\n",
       "  <tbody>\n",
       "    <tr>\n",
       "      <th>0</th>\n",
       "      <td>SAN ANTONIO</td>\n",
       "      <td>BEXAR</td>\n",
       "      <td>780948, 1706491, 1699123</td>\n",
       "      <td>NGUYEN, TOAN HUU</td>\n",
       "      <td>Respondent failed to clean and sanitize whirlp...</td>\n",
       "      <td>COS20180004289</td>\n",
       "      <td>78217</td>\n",
       "    </tr>\n",
       "    <tr>\n",
       "      <th>1</th>\n",
       "      <td>EL PASO</td>\n",
       "      <td>EL PASO</td>\n",
       "      <td>737708</td>\n",
       "      <td>NGUYEN, HANH CONG</td>\n",
       "      <td>Respondent failed to clean and sanitize whirlp...</td>\n",
       "      <td>COS20180006594</td>\n",
       "      <td>79934</td>\n",
       "    </tr>\n",
       "    <tr>\n",
       "      <th>2</th>\n",
       "      <td>LONGVIEW</td>\n",
       "      <td>GREGG</td>\n",
       "      <td>731665</td>\n",
       "      <td>NGUYEN, KHIEM VAN</td>\n",
       "      <td>Respondent failed to follow whirlpool foot spa...</td>\n",
       "      <td>COS20180000257</td>\n",
       "      <td>75604</td>\n",
       "    </tr>\n",
       "    <tr>\n",
       "      <th>3</th>\n",
       "      <td>HOUSTON</td>\n",
       "      <td>HARRIS</td>\n",
       "      <td>1347649, 760528</td>\n",
       "      <td>NGUYEN, DIEP THI NGOC</td>\n",
       "      <td>Respondent failed to disinfect tools, implemen...</td>\n",
       "      <td>COS20180004915</td>\n",
       "      <td>77014</td>\n",
       "    </tr>\n",
       "    <tr>\n",
       "      <th>4</th>\n",
       "      <td>SAN ANTONIO</td>\n",
       "      <td>BEXAR</td>\n",
       "      <td>City:</td>\n",
       "      <td>NGUYEN, LAN T-THUY</td>\n",
       "      <td>Respondent failed to clean, disinfect, and ste...</td>\n",
       "      <td>County:</td>\n",
       "      <td>78255</td>\n",
       "    </tr>\n",
       "  </tbody>\n",
       "</table>\n",
       "</div>"
      ],
      "text/plain": [
       "          City   County           License Numbers     Name of the person  \\\n",
       "0  SAN ANTONIO    BEXAR  780948, 1706491, 1699123       NGUYEN, TOAN HUU   \n",
       "1      EL PASO  EL PASO                    737708      NGUYEN, HANH CONG   \n",
       "2     LONGVIEW    GREGG                    731665      NGUYEN, KHIEM VAN   \n",
       "3      HOUSTON   HARRIS           1347649, 760528  NGUYEN, DIEP THI NGOC   \n",
       "4  SAN ANTONIO    BEXAR                     City:     NGUYEN, LAN T-THUY   \n",
       "\n",
       "                               Violation description Violation number Zip Code  \n",
       "0  Respondent failed to clean and sanitize whirlp...   COS20180004289    78217  \n",
       "1  Respondent failed to clean and sanitize whirlp...   COS20180006594    79934  \n",
       "2  Respondent failed to follow whirlpool foot spa...   COS20180000257    75604  \n",
       "3  Respondent failed to disinfect tools, implemen...   COS20180004915    77014  \n",
       "4  Respondent failed to clean, disinfect, and ste...          County:    78255  "
      ]
     },
     "execution_count": 35,
     "metadata": {},
     "output_type": "execute_result"
    }
   ],
   "source": [
    "df = pd.DataFrame(cosmetic_violations)\n",
    "df.head()"
   ]
  },
  {
   "cell_type": "code",
   "execution_count": 36,
   "metadata": {},
   "outputs": [
    {
     "data": {
      "text/html": [
       "<div>\n",
       "<style scoped>\n",
       "    .dataframe tbody tr th:only-of-type {\n",
       "        vertical-align: middle;\n",
       "    }\n",
       "\n",
       "    .dataframe tbody tr th {\n",
       "        vertical-align: top;\n",
       "    }\n",
       "\n",
       "    .dataframe thead th {\n",
       "        text-align: right;\n",
       "    }\n",
       "</style>\n",
       "<table border=\"1\" class=\"dataframe\">\n",
       "  <thead>\n",
       "    <tr style=\"text-align: right;\">\n",
       "      <th></th>\n",
       "      <th>Name of the person</th>\n",
       "      <th>Violation description</th>\n",
       "      <th>Violation number</th>\n",
       "      <th>License Numbers</th>\n",
       "      <th>Zip Code</th>\n",
       "      <th>County</th>\n",
       "      <th>City</th>\n",
       "    </tr>\n",
       "  </thead>\n",
       "  <tbody>\n",
       "    <tr>\n",
       "      <th>0</th>\n",
       "      <td>NGUYEN, TOAN HUU</td>\n",
       "      <td>Respondent failed to clean and sanitize whirlp...</td>\n",
       "      <td>COS20180004289</td>\n",
       "      <td>780948, 1706491, 1699123</td>\n",
       "      <td>78217</td>\n",
       "      <td>BEXAR</td>\n",
       "      <td>SAN ANTONIO</td>\n",
       "    </tr>\n",
       "    <tr>\n",
       "      <th>1</th>\n",
       "      <td>NGUYEN, HANH CONG</td>\n",
       "      <td>Respondent failed to clean and sanitize whirlp...</td>\n",
       "      <td>COS20180006594</td>\n",
       "      <td>737708</td>\n",
       "      <td>79934</td>\n",
       "      <td>EL PASO</td>\n",
       "      <td>EL PASO</td>\n",
       "    </tr>\n",
       "    <tr>\n",
       "      <th>2</th>\n",
       "      <td>NGUYEN, KHIEM VAN</td>\n",
       "      <td>Respondent failed to follow whirlpool foot spa...</td>\n",
       "      <td>COS20180000257</td>\n",
       "      <td>731665</td>\n",
       "      <td>75604</td>\n",
       "      <td>GREGG</td>\n",
       "      <td>LONGVIEW</td>\n",
       "    </tr>\n",
       "    <tr>\n",
       "      <th>3</th>\n",
       "      <td>NGUYEN, DIEP THI NGOC</td>\n",
       "      <td>Respondent failed to disinfect tools, implemen...</td>\n",
       "      <td>COS20180004915</td>\n",
       "      <td>1347649, 760528</td>\n",
       "      <td>77014</td>\n",
       "      <td>HARRIS</td>\n",
       "      <td>HOUSTON</td>\n",
       "    </tr>\n",
       "    <tr>\n",
       "      <th>4</th>\n",
       "      <td>NGUYEN, LAN T-THUY</td>\n",
       "      <td>Respondent failed to clean, disinfect, and ste...</td>\n",
       "      <td>County:</td>\n",
       "      <td>City:</td>\n",
       "      <td>78255</td>\n",
       "      <td>BEXAR</td>\n",
       "      <td>SAN ANTONIO</td>\n",
       "    </tr>\n",
       "  </tbody>\n",
       "</table>\n",
       "</div>"
      ],
      "text/plain": [
       "      Name of the person                              Violation description  \\\n",
       "0       NGUYEN, TOAN HUU  Respondent failed to clean and sanitize whirlp...   \n",
       "1      NGUYEN, HANH CONG  Respondent failed to clean and sanitize whirlp...   \n",
       "2      NGUYEN, KHIEM VAN  Respondent failed to follow whirlpool foot spa...   \n",
       "3  NGUYEN, DIEP THI NGOC  Respondent failed to disinfect tools, implemen...   \n",
       "4     NGUYEN, LAN T-THUY  Respondent failed to clean, disinfect, and ste...   \n",
       "\n",
       "  Violation number           License Numbers Zip Code   County         City  \n",
       "0   COS20180004289  780948, 1706491, 1699123    78217    BEXAR  SAN ANTONIO  \n",
       "1   COS20180006594                    737708    79934  EL PASO      EL PASO  \n",
       "2   COS20180000257                    731665    75604    GREGG     LONGVIEW  \n",
       "3   COS20180004915           1347649, 760528    77014   HARRIS      HOUSTON  \n",
       "4          County:                     City:    78255    BEXAR  SAN ANTONIO  "
      ]
     },
     "execution_count": 36,
     "metadata": {},
     "output_type": "execute_result"
    }
   ],
   "source": [
    "df = df[['Name of the person', 'Violation description', 'Violation number', 'License Numbers', 'Zip Code', 'County', 'City']]\n",
    "df.head()"
   ]
  },
  {
   "cell_type": "markdown",
   "metadata": {},
   "source": [
    "### Open the CSV file and examine the first few. Make sure you didn't save an extra weird unnamed column."
   ]
  },
  {
   "cell_type": "code",
   "execution_count": 37,
   "metadata": {},
   "outputs": [],
   "source": [
    "df.to_csv(\"texas-cosmetology.csv\", index=False)"
   ]
  },
  {
   "cell_type": "code",
   "execution_count": 38,
   "metadata": {},
   "outputs": [],
   "source": [
    "df = pd.read_csv(\"texas-cosmetology.csv\")"
   ]
  },
  {
   "cell_type": "code",
   "execution_count": 39,
   "metadata": {},
   "outputs": [
    {
     "data": {
      "text/html": [
       "<div>\n",
       "<style scoped>\n",
       "    .dataframe tbody tr th:only-of-type {\n",
       "        vertical-align: middle;\n",
       "    }\n",
       "\n",
       "    .dataframe tbody tr th {\n",
       "        vertical-align: top;\n",
       "    }\n",
       "\n",
       "    .dataframe thead th {\n",
       "        text-align: right;\n",
       "    }\n",
       "</style>\n",
       "<table border=\"1\" class=\"dataframe\">\n",
       "  <thead>\n",
       "    <tr style=\"text-align: right;\">\n",
       "      <th></th>\n",
       "      <th>Name of the person</th>\n",
       "      <th>Violation description</th>\n",
       "      <th>Violation number</th>\n",
       "      <th>License Numbers</th>\n",
       "      <th>Zip Code</th>\n",
       "      <th>County</th>\n",
       "      <th>City</th>\n",
       "    </tr>\n",
       "  </thead>\n",
       "  <tbody>\n",
       "    <tr>\n",
       "      <th>0</th>\n",
       "      <td>NGUYEN, TOAN HUU</td>\n",
       "      <td>Respondent failed to clean and sanitize whirlp...</td>\n",
       "      <td>COS20180004289</td>\n",
       "      <td>780948, 1706491, 1699123</td>\n",
       "      <td>78217</td>\n",
       "      <td>BEXAR</td>\n",
       "      <td>SAN ANTONIO</td>\n",
       "    </tr>\n",
       "    <tr>\n",
       "      <th>1</th>\n",
       "      <td>NGUYEN, HANH CONG</td>\n",
       "      <td>Respondent failed to clean and sanitize whirlp...</td>\n",
       "      <td>COS20180006594</td>\n",
       "      <td>737708</td>\n",
       "      <td>79934</td>\n",
       "      <td>EL PASO</td>\n",
       "      <td>EL PASO</td>\n",
       "    </tr>\n",
       "    <tr>\n",
       "      <th>2</th>\n",
       "      <td>NGUYEN, KHIEM VAN</td>\n",
       "      <td>Respondent failed to follow whirlpool foot spa...</td>\n",
       "      <td>COS20180000257</td>\n",
       "      <td>731665</td>\n",
       "      <td>75604</td>\n",
       "      <td>GREGG</td>\n",
       "      <td>LONGVIEW</td>\n",
       "    </tr>\n",
       "    <tr>\n",
       "      <th>3</th>\n",
       "      <td>NGUYEN, DIEP THI NGOC</td>\n",
       "      <td>Respondent failed to disinfect tools, implemen...</td>\n",
       "      <td>COS20180004915</td>\n",
       "      <td>1347649, 760528</td>\n",
       "      <td>77014</td>\n",
       "      <td>HARRIS</td>\n",
       "      <td>HOUSTON</td>\n",
       "    </tr>\n",
       "    <tr>\n",
       "      <th>4</th>\n",
       "      <td>NGUYEN, LAN T-THUY</td>\n",
       "      <td>Respondent failed to clean, disinfect, and ste...</td>\n",
       "      <td>County:</td>\n",
       "      <td>City:</td>\n",
       "      <td>78255</td>\n",
       "      <td>BEXAR</td>\n",
       "      <td>SAN ANTONIO</td>\n",
       "    </tr>\n",
       "    <tr>\n",
       "      <th>5</th>\n",
       "      <td>NGUYEN, TUAN A</td>\n",
       "      <td>Respondent failed to clean and disinfect all w...</td>\n",
       "      <td>County:</td>\n",
       "      <td>City:</td>\n",
       "      <td>78723</td>\n",
       "      <td>TRAVIS</td>\n",
       "      <td>AUSTIN</td>\n",
       "    </tr>\n",
       "    <tr>\n",
       "      <th>6</th>\n",
       "      <td>NGUYEN, THAO B</td>\n",
       "      <td>Respondent failed to clean and sanitize whirlp...</td>\n",
       "      <td>COS20180008846</td>\n",
       "      <td>721373, 1142884</td>\n",
       "      <td>76039</td>\n",
       "      <td>TARRANT</td>\n",
       "      <td>EULESS</td>\n",
       "    </tr>\n",
       "    <tr>\n",
       "      <th>7</th>\n",
       "      <td>NGUYEN, BETH MARIA</td>\n",
       "      <td>The Respondent's license was revoked upon Resp...</td>\n",
       "      <td>COS20180000897</td>\n",
       "      <td>1470271</td>\n",
       "      <td>77083</td>\n",
       "      <td>HARRIS</td>\n",
       "      <td>HOUSTON</td>\n",
       "    </tr>\n",
       "    <tr>\n",
       "      <th>8</th>\n",
       "      <td>NGUYEN, KENNEY TUAN</td>\n",
       "      <td>Respondent leased space in a barber shop to an...</td>\n",
       "      <td>BAR20180001231</td>\n",
       "      <td>692892</td>\n",
       "      <td>78613</td>\n",
       "      <td>WILLIAMSON</td>\n",
       "      <td>CEDAR PARK</td>\n",
       "    </tr>\n",
       "    <tr>\n",
       "      <th>9</th>\n",
       "      <td>NGUYEN, TRUNG N</td>\n",
       "      <td>Respondent failed to clean, disinfect, and ste...</td>\n",
       "      <td>COS20170023893</td>\n",
       "      <td>1196244, 767015, 767014</td>\n",
       "      <td>79106</td>\n",
       "      <td>POTTER</td>\n",
       "      <td>AMARILLO</td>\n",
       "    </tr>\n",
       "  </tbody>\n",
       "</table>\n",
       "</div>"
      ],
      "text/plain": [
       "      Name of the person                              Violation description  \\\n",
       "0       NGUYEN, TOAN HUU  Respondent failed to clean and sanitize whirlp...   \n",
       "1      NGUYEN, HANH CONG  Respondent failed to clean and sanitize whirlp...   \n",
       "2      NGUYEN, KHIEM VAN  Respondent failed to follow whirlpool foot spa...   \n",
       "3  NGUYEN, DIEP THI NGOC  Respondent failed to disinfect tools, implemen...   \n",
       "4     NGUYEN, LAN T-THUY  Respondent failed to clean, disinfect, and ste...   \n",
       "5         NGUYEN, TUAN A  Respondent failed to clean and disinfect all w...   \n",
       "6         NGUYEN, THAO B  Respondent failed to clean and sanitize whirlp...   \n",
       "7     NGUYEN, BETH MARIA  The Respondent's license was revoked upon Resp...   \n",
       "8    NGUYEN, KENNEY TUAN  Respondent leased space in a barber shop to an...   \n",
       "9        NGUYEN, TRUNG N  Respondent failed to clean, disinfect, and ste...   \n",
       "\n",
       "  Violation number           License Numbers  Zip Code      County  \\\n",
       "0   COS20180004289  780948, 1706491, 1699123     78217       BEXAR   \n",
       "1   COS20180006594                    737708     79934     EL PASO   \n",
       "2   COS20180000257                    731665     75604       GREGG   \n",
       "3   COS20180004915           1347649, 760528     77014      HARRIS   \n",
       "4          County:                     City:     78255       BEXAR   \n",
       "5          County:                     City:     78723      TRAVIS   \n",
       "6   COS20180008846           721373, 1142884     76039     TARRANT   \n",
       "7   COS20180000897                   1470271     77083      HARRIS   \n",
       "8   BAR20180001231                    692892     78613  WILLIAMSON   \n",
       "9   COS20170023893   1196244, 767015, 767014     79106      POTTER   \n",
       "\n",
       "          City  \n",
       "0  SAN ANTONIO  \n",
       "1      EL PASO  \n",
       "2     LONGVIEW  \n",
       "3      HOUSTON  \n",
       "4  SAN ANTONIO  \n",
       "5       AUSTIN  \n",
       "6       EULESS  \n",
       "7      HOUSTON  \n",
       "8   CEDAR PARK  \n",
       "9     AMARILLO  "
      ]
     },
     "execution_count": 39,
     "metadata": {},
     "output_type": "execute_result"
    }
   ],
   "source": [
    "df"
   ]
  }
 ],
 "metadata": {
  "kernelspec": {
   "display_name": "Python 3",
   "language": "python",
   "name": "python3"
  },
  "language_info": {
   "codemirror_mode": {
    "name": "ipython",
    "version": 3
   },
   "file_extension": ".py",
   "mimetype": "text/x-python",
   "name": "python",
   "nbconvert_exporter": "python",
   "pygments_lexer": "ipython3",
   "version": "3.6.5"
  }
 },
 "nbformat": 4,
 "nbformat_minor": 2
}
