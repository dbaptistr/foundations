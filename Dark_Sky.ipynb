{
 "cells": [
  {
   "cell_type": "code",
   "execution_count": 1,
   "metadata": {},
   "outputs": [],
   "source": [
    "import requests\n",
    "from bs4 import BeautifulSoup\n",
    "import pandas as pd"
   ]
  },
  {
   "cell_type": "code",
   "execution_count": 2,
   "metadata": {},
   "outputs": [
    {
     "name": "stdout",
     "output_type": "stream",
     "text": [
      "dict_keys(['latitude', 'longitude', 'timezone', 'currently', 'minutely', 'hourly', 'daily', 'flags', 'offset'])\n"
     ]
    }
   ],
   "source": [
    "response = requests.get(\"https://api.darksky.net/forecast/a338b1942222a777f0b853e7e63cd5b3/40.730610,-73.935242\")\n",
    "data = response.json()\n",
    "print(data.keys())"
   ]
  },
  {
   "cell_type": "code",
   "execution_count": 3,
   "metadata": {},
   "outputs": [],
   "source": [
    "daily = data[\"daily\"]\n"
   ]
  },
  {
   "cell_type": "code",
   "execution_count": 4,
   "metadata": {},
   "outputs": [],
   "source": [
    "current = data[\"currently\"]\n"
   ]
  },
  {
   "cell_type": "code",
   "execution_count": 5,
   "metadata": {},
   "outputs": [],
   "source": [
    "data_daily = daily[\"data\"]\n",
    "data_daily1 = data_daily[0]\n"
   ]
  },
  {
   "cell_type": "code",
   "execution_count": 6,
   "metadata": {},
   "outputs": [],
   "source": [
    "temperature = current[\"temperature\"]\n",
    "summary = data_daily1[\"summary\"].lower()\n",
    "temp_feeling = current[\"apparentTemperature\"]\n",
    "high_temp = data_daily1[\"temperatureHigh\"]\n",
    "low_temp = data_daily1[\"temperatureLow\"]\n",
    "rain_warning = current[\"precipProbability\"]"
   ]
  },
  {
   "cell_type": "code",
   "execution_count": 7,
   "metadata": {},
   "outputs": [],
   "source": [
    "sentence = (\"Right now it is\", temperature, \"degrees out,\", summary, \"Today will be\", temp_feeling, \"F degrees with a high of\", high_temp, \"F degrees and a low of \", low_temp, \"F degrees.\", \"There's a\", rain_warning, \"percent probability of rain for today.\")"
   ]
  },
  {
   "cell_type": "code",
   "execution_count": 8,
   "metadata": {},
   "outputs": [],
   "source": [
    "sentence = (\"Right now it is \" + \n",
    "            str(temperature) + \n",
    "            \"F degrees out, \" + \n",
    "            summary,\n",
    "            \" Today will be \" + \n",
    "            str(temp_feeling) + \n",
    "            \"F degrees with a high of \" + \n",
    "            str(high_temp) + \"F degrees and a low of \" + \n",
    "            str(low_temp) + \"F degrees. \",\n",
    "            \"There's a \" + \n",
    "            str(rain_warning) + \" percent probability of rain for today.\"\n",
    "           )\n",
    "\n",
    "\n",
    "\n",
    "\n",
    "\n"
   ]
  },
  {
   "cell_type": "code",
   "execution_count": 9,
   "metadata": {},
   "outputs": [
    {
     "data": {
      "text/plain": [
       "('Right now it is 73.24F degrees out, rain overnight.',\n",
       " ' Today will be 73.84F degrees with a high of 80.34F degrees and a low of 69.21F degrees. ',\n",
       " \"There's a 0.24 percent probability of rain for today.\")"
      ]
     },
     "execution_count": 9,
     "metadata": {},
     "output_type": "execute_result"
    }
   ],
   "source": [
    "sentence"
   ]
  },
  {
   "cell_type": "code",
   "execution_count": 10,
   "metadata": {},
   "outputs": [
    {
     "data": {
      "text/plain": [
       "datetime.datetime(2018, 6, 20, 22, 8, 0, 120927)"
      ]
     },
     "execution_count": 10,
     "metadata": {},
     "output_type": "execute_result"
    }
   ],
   "source": [
    "import datetime\n",
    "right_now = datetime.datetime.now()\n",
    "right_now"
   ]
  },
  {
   "cell_type": "code",
   "execution_count": 16,
   "metadata": {},
   "outputs": [],
   "source": [
    "right_now_string = right_now.strftime(\"%B %d, %Y.\")"
   ]
  },
  {
   "cell_type": "code",
   "execution_count": 17,
   "metadata": {},
   "outputs": [],
   "source": [
    "def send_simple_message():\n",
    "    return requests.post(\n",
    "        \"https://api.mailgun.net/v3/sandbox---.mailgun.org/messages\",\n",
    "        auth=(\"api\", \"b-----e\"),\n",
    "        data={\"from\": \"Diana Baptista <mailgun@sandbox-----.mailgun.org>\",\n",
    "              \"to\": [\"dianadbr@gmail.com\"],\n",
    "              \"subject\": \"8AM Weather forecast: \" + right_now_string,\n",
    "              \"text\": sentence})"
   ]
  },
  {
   "cell_type": "code",
   "execution_count": 18,
   "metadata": {},
   "outputs": [
    {
     "data": {
      "text/plain": [
       "<Response [200]>"
      ]
     },
     "execution_count": 18,
     "metadata": {},
     "output_type": "execute_result"
    }
   ],
   "source": [
    "send_simple_message()"
   ]
  },
  {
   "cell_type": "code",
   "execution_count": null,
   "metadata": {},
   "outputs": [],
   "source": []
  }
 ],
 "metadata": {
  "kernelspec": {
   "display_name": "Python 3",
   "language": "python",
   "name": "python3"
  },
  "language_info": {
   "codemirror_mode": {
    "name": "ipython",
    "version": 3
   },
   "file_extension": ".py",
   "mimetype": "text/x-python",
   "name": "python",
   "nbconvert_exporter": "python",
   "pygments_lexer": "ipython3",
   "version": "3.6.5"
  }
 },
 "nbformat": 4,
 "nbformat_minor": 2
}
