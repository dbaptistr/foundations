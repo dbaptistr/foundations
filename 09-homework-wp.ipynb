{
 "cells": [
  {
   "cell_type": "code",
   "execution_count": 1,
   "metadata": {},
   "outputs": [],
   "source": [
    "import requests\n",
    "from bs4 import BeautifulSoup\n",
    "import pandas as pd"
   ]
  },
  {
   "cell_type": "code",
   "execution_count": 2,
   "metadata": {},
   "outputs": [],
   "source": [
    "response = requests.get(\"https://www.washingtonpost.com/\")"
   ]
  },
  {
   "cell_type": "code",
   "execution_count": 3,
   "metadata": {},
   "outputs": [],
   "source": [
    "doc = BeautifulSoup(response.text, 'html.parser')"
   ]
  },
  {
   "cell_type": "code",
   "execution_count": 4,
   "metadata": {},
   "outputs": [],
   "source": [
    "articles = doc.find_all(class_=\"top-table-col\")"
   ]
  },
  {
   "cell_type": "code",
   "execution_count": 5,
   "metadata": {},
   "outputs": [],
   "source": [
    "opinion = doc.find_all(class_=\"flex-stack\")"
   ]
  },
  {
   "cell_type": "code",
   "execution_count": 6,
   "metadata": {},
   "outputs": [
    {
     "data": {
      "text/plain": [
       "[{'headline': 'In retreat on family separation policy, Trump’s focus was on looking strong',\n",
       "  'author': 'Michael Scherer',\n",
       "  'link': 'https://www.washingtonpost.com/politics/family-separation-debate-shows-trump-worries-most-about-showing-strength-not-heart/2018/06/20/330ee6be-74b0-11e8-9780-b1dd6a09b549_story.html'},\n",
       " {'headline': 'The Trump administration changed its story on family separation no fewer than 14 times before ending the policy',\n",
       "  'author': 'JM Rieger',\n",
       "  'link': 'https://www.washingtonpost.com/news/the-fix/wp/2018/06/20/the-trump-administration-changed-its-story-on-family-separation-no-fewer-than-14-times-before-ending-the-policy/'},\n",
       " {'headline': 'Longtime GOP strategist abandons his party, calls for the election of Democrats',\n",
       "  'author': 'Dan Balz',\n",
       "  'link': 'https://www.washingtonpost.com/politics/a-gop-strategist-abandons-his-party-and-calls-for-the-election-of-democrats/2018/06/20/b3f9fbd4-74c3-11e8-b4b7-308400242c2e_story.html'},\n",
       " {'headline': 'Senate rejects billions in Trump spending cuts as two Republicans vote ‘no’',\n",
       "  'author': 'Erica Werner',\n",
       "  'link': 'https://www.washingtonpost.com/business/economy/senate-rejects-billions-in-trump-spending-cuts-as-two-republicans-vote-no/2018/06/20/1a44df9a-74aa-11e8-b4b7-308400242c2e_story.html'},\n",
       " {'headline': 'In retreat on family separation policy, Trump’s focus was on looking strong',\n",
       "  'author': 'Michael Scherer',\n",
       "  'link': 'https://www.washingtonpost.com/business/economy/senate-rejects-billions-in-trump-spending-cuts-as-two-republicans-vote-no/2018/06/20/1a44df9a-74aa-11e8-b4b7-308400242c2e_story.html'},\n",
       " {'headline': 'Trump reverses policy of separating families at border, but reprieve may be temporary',\n",
       "  'link': 'https://www.washingtonpost.com/business/economy/senate-rejects-billions-in-trump-spending-cuts-as-two-republicans-vote-no/2018/06/20/1a44df9a-74aa-11e8-b4b7-308400242c2e_story.html'},\n",
       " {'headline': '‘A blowtorch to the tinder’: Stoking racial tensions is a feature of Trump’s presidency',\n",
       "  'author': 'Philip Rucker',\n",
       "  'link': 'https://www.washingtonpost.com/business/economy/senate-rejects-billions-in-trump-spending-cuts-as-two-republicans-vote-no/2018/06/20/1a44df9a-74aa-11e8-b4b7-308400242c2e_story.html'},\n",
       " {'link': 'https://www.washingtonpost.com/business/economy/senate-rejects-billions-in-trump-spending-cuts-as-two-republicans-vote-no/2018/06/20/1a44df9a-74aa-11e8-b4b7-308400242c2e_story.html'},\n",
       " {'author': 'Philip Rucker',\n",
       "  'link': 'https://www.washingtonpost.com/business/economy/senate-rejects-billions-in-trump-spending-cuts-as-two-republicans-vote-no/2018/06/20/1a44df9a-74aa-11e8-b4b7-308400242c2e_story.html'},\n",
       " {'headline': 'The Fix: Michael Cohen quits RNC post, citing border policy, his federal criminal investigation',\n",
       "  'link': 'https://www.washingtonpost.com/business/economy/senate-rejects-billions-in-trump-spending-cuts-as-two-republicans-vote-no/2018/06/20/1a44df9a-74aa-11e8-b4b7-308400242c2e_story.html'},\n",
       " {'link': 'https://www.washingtonpost.com/business/economy/senate-rejects-billions-in-trump-spending-cuts-as-two-republicans-vote-no/2018/06/20/1a44df9a-74aa-11e8-b4b7-308400242c2e_story.html'},\n",
       " {'headline': 'The Fix: Michael Cohen quits RNC post, citing border policy, his federal criminal investigation',\n",
       "  'link': 'https://www.washingtonpost.com/business/economy/senate-rejects-billions-in-trump-spending-cuts-as-two-republicans-vote-no/2018/06/20/1a44df9a-74aa-11e8-b4b7-308400242c2e_story.html'},\n",
       " {'headline': 'Melania Trump urged her husband to end the border separation policy',\n",
       "  'link': 'https://www.washingtonpost.com/business/economy/senate-rejects-billions-in-trump-spending-cuts-as-two-republicans-vote-no/2018/06/20/1a44df9a-74aa-11e8-b4b7-308400242c2e_story.html'},\n",
       " {'link': 'https://www.washingtonpost.com/business/economy/senate-rejects-billions-in-trump-spending-cuts-as-two-republicans-vote-no/2018/06/20/1a44df9a-74aa-11e8-b4b7-308400242c2e_story.html'},\n",
       " {'headline': 'Melania Trump urged her husband to end the border separation policy',\n",
       "  'link': 'https://www.washingtonpost.com/business/economy/senate-rejects-billions-in-trump-spending-cuts-as-two-republicans-vote-no/2018/06/20/1a44df9a-74aa-11e8-b4b7-308400242c2e_story.html'},\n",
       " {'headline': 'The Trump administration changed its story on family separation no fewer than 14 times before ending the policy',\n",
       "  'author': 'JM Rieger',\n",
       "  'link': 'https://www.washingtonpost.com/business/economy/senate-rejects-billions-in-trump-spending-cuts-as-two-republicans-vote-no/2018/06/20/1a44df9a-74aa-11e8-b4b7-308400242c2e_story.html'},\n",
       " {'headline': '‘She couldn’t let go of them, ever’: Trauma of separation lingers for children',\n",
       "  'author': 'William Wan',\n",
       "  'link': 'https://www.washingtonpost.com/business/economy/senate-rejects-billions-in-trump-spending-cuts-as-two-republicans-vote-no/2018/06/20/1a44df9a-74aa-11e8-b4b7-308400242c2e_story.html'},\n",
       " {'link': 'https://www.washingtonpost.com/business/economy/senate-rejects-billions-in-trump-spending-cuts-as-two-republicans-vote-no/2018/06/20/1a44df9a-74aa-11e8-b4b7-308400242c2e_story.html'},\n",
       " {'author': 'William Wan',\n",
       "  'link': 'https://www.washingtonpost.com/business/economy/senate-rejects-billions-in-trump-spending-cuts-as-two-republicans-vote-no/2018/06/20/1a44df9a-74aa-11e8-b4b7-308400242c2e_story.html'},\n",
       " {'headline': 'Longtime GOP strategist abandons his party, calls for the election of Democrats',\n",
       "  'author': 'Dan Balz',\n",
       "  'link': 'https://www.washingtonpost.com/business/economy/senate-rejects-billions-in-trump-spending-cuts-as-two-republicans-vote-no/2018/06/20/1a44df9a-74aa-11e8-b4b7-308400242c2e_story.html'},\n",
       " {'link': 'https://www.washingtonpost.com/business/economy/senate-rejects-billions-in-trump-spending-cuts-as-two-republicans-vote-no/2018/06/20/1a44df9a-74aa-11e8-b4b7-308400242c2e_story.html'},\n",
       " {'author': 'Dan Balz',\n",
       "  'link': 'https://www.washingtonpost.com/business/economy/senate-rejects-billions-in-trump-spending-cuts-as-two-republicans-vote-no/2018/06/20/1a44df9a-74aa-11e8-b4b7-308400242c2e_story.html'},\n",
       " {'headline': 'Senate rejects billions in Trump spending cuts as two Republicans vote ‘no’',\n",
       "  'author': 'Erica Werner',\n",
       "  'link': 'https://www.washingtonpost.com/business/economy/senate-rejects-billions-in-trump-spending-cuts-as-two-republicans-vote-no/2018/06/20/1a44df9a-74aa-11e8-b4b7-308400242c2e_story.html'},\n",
       " {'headline': 'This is what it feels like to be separated at the border',\n",
       "  'author': 'Victoria Smolkin',\n",
       "  'link': 'https://www.washingtonpost.com/business/economy/senate-rejects-billions-in-trump-spending-cuts-as-two-republicans-vote-no/2018/06/20/1a44df9a-74aa-11e8-b4b7-308400242c2e_story.html'},\n",
       " {'link': 'https://www.washingtonpost.com/business/economy/senate-rejects-billions-in-trump-spending-cuts-as-two-republicans-vote-no/2018/06/20/1a44df9a-74aa-11e8-b4b7-308400242c2e_story.html'},\n",
       " {'headline': 'This is what it feels like to be separated at the border',\n",
       "  'author': 'Victoria Smolkin',\n",
       "  'link': 'https://www.washingtonpost.com/business/economy/senate-rejects-billions-in-trump-spending-cuts-as-two-republicans-vote-no/2018/06/20/1a44df9a-74aa-11e8-b4b7-308400242c2e_story.html'},\n",
       " {'headline': 'Trump says trade wars are ‘easy.’ Here come the first American casualties.',\n",
       "  'author': 'Dana Milbank',\n",
       "  'link': 'https://www.washingtonpost.com/business/economy/senate-rejects-billions-in-trump-spending-cuts-as-two-republicans-vote-no/2018/06/20/1a44df9a-74aa-11e8-b4b7-308400242c2e_story.html'},\n",
       " {'link': 'https://www.washingtonpost.com/business/economy/senate-rejects-billions-in-trump-spending-cuts-as-two-republicans-vote-no/2018/06/20/1a44df9a-74aa-11e8-b4b7-308400242c2e_story.html'},\n",
       " {'headline': 'Trump says trade wars are ‘easy.’ Here come the first American casualties.',\n",
       "  'author': 'Dana Milbank',\n",
       "  'link': 'https://www.washingtonpost.com/business/economy/senate-rejects-billions-in-trump-spending-cuts-as-two-republicans-vote-no/2018/06/20/1a44df9a-74aa-11e8-b4b7-308400242c2e_story.html'},\n",
       " {'headline': 'Trump has been forced into retreat by babies. That’s fitting.',\n",
       "  'author': 'Karen Tumulty',\n",
       "  'link': 'https://www.washingtonpost.com/business/economy/senate-rejects-billions-in-trump-spending-cuts-as-two-republicans-vote-no/2018/06/20/1a44df9a-74aa-11e8-b4b7-308400242c2e_story.html'},\n",
       " {'link': 'https://www.washingtonpost.com/business/economy/senate-rejects-billions-in-trump-spending-cuts-as-two-republicans-vote-no/2018/06/20/1a44df9a-74aa-11e8-b4b7-308400242c2e_story.html'},\n",
       " {'headline': 'Trump has been forced into retreat by babies. That’s fitting.',\n",
       "  'author': 'Karen Tumulty',\n",
       "  'link': 'https://www.washingtonpost.com/business/economy/senate-rejects-billions-in-trump-spending-cuts-as-two-republicans-vote-no/2018/06/20/1a44df9a-74aa-11e8-b4b7-308400242c2e_story.html'},\n",
       " {'headline': 'Humanity won this time. But there’s a hard road ahead.',\n",
       "  'author': 'E.J. Dionne Jr.',\n",
       "  'link': 'https://www.washingtonpost.com/business/economy/senate-rejects-billions-in-trump-spending-cuts-as-two-republicans-vote-no/2018/06/20/1a44df9a-74aa-11e8-b4b7-308400242c2e_story.html'},\n",
       " {'link': 'https://www.washingtonpost.com/business/economy/senate-rejects-billions-in-trump-spending-cuts-as-two-republicans-vote-no/2018/06/20/1a44df9a-74aa-11e8-b4b7-308400242c2e_story.html'},\n",
       " {'headline': 'Humanity won this time. But there’s a hard road ahead.',\n",
       "  'author': 'E.J. Dionne Jr.',\n",
       "  'link': 'https://www.washingtonpost.com/business/economy/senate-rejects-billions-in-trump-spending-cuts-as-two-republicans-vote-no/2018/06/20/1a44df9a-74aa-11e8-b4b7-308400242c2e_story.html'},\n",
       " {'headline': 'Repugnant',\n",
       "  'author': 'Editorial Board',\n",
       "  'link': 'https://www.washingtonpost.com/business/economy/senate-rejects-billions-in-trump-spending-cuts-as-two-republicans-vote-no/2018/06/20/1a44df9a-74aa-11e8-b4b7-308400242c2e_story.html'},\n",
       " {'link': 'https://www.washingtonpost.com/business/economy/senate-rejects-billions-in-trump-spending-cuts-as-two-republicans-vote-no/2018/06/20/1a44df9a-74aa-11e8-b4b7-308400242c2e_story.html'},\n",
       " {'headline': 'Repugnant',\n",
       "  'author': 'Editorial Board',\n",
       "  'link': 'https://www.washingtonpost.com/business/economy/senate-rejects-billions-in-trump-spending-cuts-as-two-republicans-vote-no/2018/06/20/1a44df9a-74aa-11e8-b4b7-308400242c2e_story.html'},\n",
       " {'headline': 'Canada is not your utopia',\n",
       "  'author': 'David Moscrop',\n",
       "  'link': 'https://www.washingtonpost.com/business/economy/senate-rejects-billions-in-trump-spending-cuts-as-two-republicans-vote-no/2018/06/20/1a44df9a-74aa-11e8-b4b7-308400242c2e_story.html'},\n",
       " {'link': 'https://www.washingtonpost.com/business/economy/senate-rejects-billions-in-trump-spending-cuts-as-two-republicans-vote-no/2018/06/20/1a44df9a-74aa-11e8-b4b7-308400242c2e_story.html'},\n",
       " {'headline': 'Canada is not your utopia',\n",
       "  'author': 'David Moscrop',\n",
       "  'link': 'https://www.washingtonpost.com/business/economy/senate-rejects-billions-in-trump-spending-cuts-as-two-republicans-vote-no/2018/06/20/1a44df9a-74aa-11e8-b4b7-308400242c2e_story.html'},\n",
       " {'headline': 'Trump erases Obama-era policy on ocean protection',\n",
       "  'author': 'Darryl Fears',\n",
       "  'link': 'https://www.washingtonpost.com/business/economy/senate-rejects-billions-in-trump-spending-cuts-as-two-republicans-vote-no/2018/06/20/1a44df9a-74aa-11e8-b4b7-308400242c2e_story.html'},\n",
       " {'link': 'https://www.washingtonpost.com/business/economy/senate-rejects-billions-in-trump-spending-cuts-as-two-republicans-vote-no/2018/06/20/1a44df9a-74aa-11e8-b4b7-308400242c2e_story.html'},\n",
       " {'headline': 'Trump erases Obama-era policy on ocean protection',\n",
       "  'author': 'Darryl Fears',\n",
       "  'link': 'https://www.washingtonpost.com/business/economy/senate-rejects-billions-in-trump-spending-cuts-as-two-republicans-vote-no/2018/06/20/1a44df9a-74aa-11e8-b4b7-308400242c2e_story.html'},\n",
       " {'headline': 'Mexico’s next president could be a leftist demagogue or a practical reformer. He’s the same man.',\n",
       "  'author': 'Kevin Sieff',\n",
       "  'link': 'https://www.washingtonpost.com/business/economy/senate-rejects-billions-in-trump-spending-cuts-as-two-republicans-vote-no/2018/06/20/1a44df9a-74aa-11e8-b4b7-308400242c2e_story.html'},\n",
       " {'link': 'https://www.washingtonpost.com/business/economy/senate-rejects-billions-in-trump-spending-cuts-as-two-republicans-vote-no/2018/06/20/1a44df9a-74aa-11e8-b4b7-308400242c2e_story.html'},\n",
       " {'headline': 'Mexico’s next president could be a leftist demagogue or a practical reformer. He’s the same man.',\n",
       "  'author': 'Kevin Sieff',\n",
       "  'link': 'https://www.washingtonpost.com/business/economy/senate-rejects-billions-in-trump-spending-cuts-as-two-republicans-vote-no/2018/06/20/1a44df9a-74aa-11e8-b4b7-308400242c2e_story.html'},\n",
       " {'headline': 'Can Hugh Hefner’s 26-year-old son make Playboy sexy to his own generation?',\n",
       "  'author': 'Lavanya Ramanathan',\n",
       "  'link': 'https://www.washingtonpost.com/business/economy/senate-rejects-billions-in-trump-spending-cuts-as-two-republicans-vote-no/2018/06/20/1a44df9a-74aa-11e8-b4b7-308400242c2e_story.html'},\n",
       " {'link': 'https://www.washingtonpost.com/business/economy/senate-rejects-billions-in-trump-spending-cuts-as-two-republicans-vote-no/2018/06/20/1a44df9a-74aa-11e8-b4b7-308400242c2e_story.html'},\n",
       " {'headline': 'Can Hugh Hefner’s 26-year-old son make Playboy sexy to his own generation?',\n",
       "  'author': 'Lavanya Ramanathan',\n",
       "  'link': 'https://www.washingtonpost.com/business/economy/senate-rejects-billions-in-trump-spending-cuts-as-two-republicans-vote-no/2018/06/20/1a44df9a-74aa-11e8-b4b7-308400242c2e_story.html'},\n",
       " {'headline': '‘There simply is no excuse’: ABC News apologizes for Manafort graphic',\n",
       "  'author': 'Associated Press',\n",
       "  'link': 'https://www.washingtonpost.com/business/economy/senate-rejects-billions-in-trump-spending-cuts-as-two-republicans-vote-no/2018/06/20/1a44df9a-74aa-11e8-b4b7-308400242c2e_story.html'},\n",
       " {'link': 'https://www.washingtonpost.com/business/economy/senate-rejects-billions-in-trump-spending-cuts-as-two-republicans-vote-no/2018/06/20/1a44df9a-74aa-11e8-b4b7-308400242c2e_story.html'},\n",
       " {'headline': '‘There simply is no excuse’: ABC News apologizes for Manafort graphic',\n",
       "  'author': 'Associated Press',\n",
       "  'link': 'https://www.washingtonpost.com/business/economy/senate-rejects-billions-in-trump-spending-cuts-as-two-republicans-vote-no/2018/06/20/1a44df9a-74aa-11e8-b4b7-308400242c2e_story.html'},\n",
       " {'headline': 'Former employee sued by Tesla says he was a whistleblower, alarmed by company practices and Elon Musk',\n",
       "  'author': 'Drew Harwell',\n",
       "  'link': 'https://www.washingtonpost.com/business/economy/senate-rejects-billions-in-trump-spending-cuts-as-two-republicans-vote-no/2018/06/20/1a44df9a-74aa-11e8-b4b7-308400242c2e_story.html'},\n",
       " {'link': 'https://www.washingtonpost.com/business/economy/senate-rejects-billions-in-trump-spending-cuts-as-two-republicans-vote-no/2018/06/20/1a44df9a-74aa-11e8-b4b7-308400242c2e_story.html'},\n",
       " {'headline': 'Former employee sued by Tesla says he was a whistleblower, alarmed by company practices and Elon Musk',\n",
       "  'author': 'Drew Harwell',\n",
       "  'link': 'https://www.washingtonpost.com/business/economy/senate-rejects-billions-in-trump-spending-cuts-as-two-republicans-vote-no/2018/06/20/1a44df9a-74aa-11e8-b4b7-308400242c2e_story.html'},\n",
       " {'headline': 'Organizer of white-supremacist march in Charlottesville gets initial approval for rally near White House',\n",
       "  'author': 'Joe Heim',\n",
       "  'link': 'https://www.washingtonpost.com/business/economy/senate-rejects-billions-in-trump-spending-cuts-as-two-republicans-vote-no/2018/06/20/1a44df9a-74aa-11e8-b4b7-308400242c2e_story.html'},\n",
       " {'link': 'https://www.washingtonpost.com/business/economy/senate-rejects-billions-in-trump-spending-cuts-as-two-republicans-vote-no/2018/06/20/1a44df9a-74aa-11e8-b4b7-308400242c2e_story.html'},\n",
       " {'headline': 'Organizer of white-supremacist march in Charlottesville gets initial approval for rally near White House',\n",
       "  'author': 'Joe Heim',\n",
       "  'link': 'https://www.washingtonpost.com/business/economy/senate-rejects-billions-in-trump-spending-cuts-as-two-republicans-vote-no/2018/06/20/1a44df9a-74aa-11e8-b4b7-308400242c2e_story.html'},\n",
       " {'headline': 'At Portugal’s game, disgraced ex-FIFA chief Blatter looms as large as Ronaldo',\n",
       "  'author': 'Steven Goff',\n",
       "  'link': 'https://www.washingtonpost.com/business/economy/senate-rejects-billions-in-trump-spending-cuts-as-two-republicans-vote-no/2018/06/20/1a44df9a-74aa-11e8-b4b7-308400242c2e_story.html'},\n",
       " {'link': 'https://www.washingtonpost.com/business/economy/senate-rejects-billions-in-trump-spending-cuts-as-two-republicans-vote-no/2018/06/20/1a44df9a-74aa-11e8-b4b7-308400242c2e_story.html'},\n",
       " {'headline': 'At Portugal’s game, disgraced ex-FIFA chief Blatter looms as large as Ronaldo',\n",
       "  'author': 'Steven Goff',\n",
       "  'link': 'https://www.washingtonpost.com/business/economy/senate-rejects-billions-in-trump-spending-cuts-as-two-republicans-vote-no/2018/06/20/1a44df9a-74aa-11e8-b4b7-308400242c2e_story.html'},\n",
       " {'headline': 'What it’s like skating in Ho Chi Minh City',\n",
       "  'link': 'https://www.washingtonpost.com/business/economy/senate-rejects-billions-in-trump-spending-cuts-as-two-republicans-vote-no/2018/06/20/1a44df9a-74aa-11e8-b4b7-308400242c2e_story.html'},\n",
       " {'headline': 'Murder with Impunity: Where killings go unsolved',\n",
       "  'link': 'https://www.washingtonpost.com/business/economy/senate-rejects-billions-in-trump-spending-cuts-as-two-republicans-vote-no/2018/06/20/1a44df9a-74aa-11e8-b4b7-308400242c2e_story.html'},\n",
       " {'headline': 'How many days has it been since a high-profile departure from the Trump administration?',\n",
       "  'link': 'https://www.washingtonpost.com/business/economy/senate-rejects-billions-in-trump-spending-cuts-as-two-republicans-vote-no/2018/06/20/1a44df9a-74aa-11e8-b4b7-308400242c2e_story.html'},\n",
       " {'headline': 'Eleanor Holmes Norton has represented DC for 27 years. Here’s a look back at her historic career.',\n",
       "  'link': 'https://www.washingtonpost.com/business/economy/senate-rejects-billions-in-trump-spending-cuts-as-two-republicans-vote-no/2018/06/20/1a44df9a-74aa-11e8-b4b7-308400242c2e_story.html'},\n",
       " {'headline': 'Can investing in veterans be profitable? This man wants to prove it.',\n",
       "  'link': 'https://www.washingtonpost.com/business/economy/senate-rejects-billions-in-trump-spending-cuts-as-two-republicans-vote-no/2018/06/20/1a44df9a-74aa-11e8-b4b7-308400242c2e_story.html'},\n",
       " {'headline': 'What Prince Harry and Meghan, Duchess of Sussex, are doing since their wedding',\n",
       "  'link': 'https://www.washingtonpost.com/business/economy/senate-rejects-billions-in-trump-spending-cuts-as-two-republicans-vote-no/2018/06/20/1a44df9a-74aa-11e8-b4b7-308400242c2e_story.html'},\n",
       " {'headline': 'Analyzing Kirstjen Nielsen’s defense of family separation',\n",
       "  'link': 'https://www.washingtonpost.com/business/economy/senate-rejects-billions-in-trump-spending-cuts-as-two-republicans-vote-no/2018/06/20/1a44df9a-74aa-11e8-b4b7-308400242c2e_story.html'},\n",
       " {'headline': 'Analyzing Kirstjen Nielsen’s defense of family separation',\n",
       "  'link': 'https://www.washingtonpost.com/business/economy/senate-rejects-billions-in-trump-spending-cuts-as-two-republicans-vote-no/2018/06/20/1a44df9a-74aa-11e8-b4b7-308400242c2e_story.html'},\n",
       " {'headline': 'A brief history of isolationism in the United States',\n",
       "  'link': 'https://www.washingtonpost.com/business/economy/senate-rejects-billions-in-trump-spending-cuts-as-two-republicans-vote-no/2018/06/20/1a44df9a-74aa-11e8-b4b7-308400242c2e_story.html'},\n",
       " {'headline': 'A brief history of isolationism in the United States',\n",
       "  'link': 'https://www.washingtonpost.com/business/economy/senate-rejects-billions-in-trump-spending-cuts-as-two-republicans-vote-no/2018/06/20/1a44df9a-74aa-11e8-b4b7-308400242c2e_story.html'},\n",
       " {'headline': \"'Gotti' is not the only movie Rotten Tomatoes hates\",\n",
       "  'link': 'https://www.washingtonpost.com/business/economy/senate-rejects-billions-in-trump-spending-cuts-as-two-republicans-vote-no/2018/06/20/1a44df9a-74aa-11e8-b4b7-308400242c2e_story.html'},\n",
       " {'headline': \"'Gotti' is not the only movie Rotten Tomatoes hates\",\n",
       "  'link': 'https://www.washingtonpost.com/business/economy/senate-rejects-billions-in-trump-spending-cuts-as-two-republicans-vote-no/2018/06/20/1a44df9a-74aa-11e8-b4b7-308400242c2e_story.html'},\n",
       " {'headline': 'Opinion | Trump is a cynical hypocrite and his immigration order proves it',\n",
       "  'link': 'https://www.washingtonpost.com/business/economy/senate-rejects-billions-in-trump-spending-cuts-as-two-republicans-vote-no/2018/06/20/1a44df9a-74aa-11e8-b4b7-308400242c2e_story.html'},\n",
       " {'headline': 'Opinion | Trump is a cynical hypocrite and his immigration order proves it',\n",
       "  'link': 'https://www.washingtonpost.com/business/economy/senate-rejects-billions-in-trump-spending-cuts-as-two-republicans-vote-no/2018/06/20/1a44df9a-74aa-11e8-b4b7-308400242c2e_story.html'},\n",
       " {'headline': 'More popular stories on washingtonpost.com',\n",
       "  'link': 'https://www.washingtonpost.com/business/economy/senate-rejects-billions-in-trump-spending-cuts-as-two-republicans-vote-no/2018/06/20/1a44df9a-74aa-11e8-b4b7-308400242c2e_story.html'},\n",
       " {'headline': 'We are more than refugees. We are human beings with human stories.',\n",
       "  'link': 'https://www.washingtonpost.com/business/economy/senate-rejects-billions-in-trump-spending-cuts-as-two-republicans-vote-no/2018/06/20/1a44df9a-74aa-11e8-b4b7-308400242c2e_story.html'},\n",
       " {'headline': 'We are more than refugees. We are human beings with human stories.',\n",
       "  'link': 'https://www.washingtonpost.com/business/economy/senate-rejects-billions-in-trump-spending-cuts-as-two-republicans-vote-no/2018/06/20/1a44df9a-74aa-11e8-b4b7-308400242c2e_story.html'},\n",
       " {'link': 'https://www.washingtonpost.com/business/economy/senate-rejects-billions-in-trump-spending-cuts-as-two-republicans-vote-no/2018/06/20/1a44df9a-74aa-11e8-b4b7-308400242c2e_story.html'},\n",
       " {'headline': 'Amanda Septimo is running for office in the country’s poorest district. Here’s what she hopes to do.',\n",
       "  'link': 'https://www.washingtonpost.com/business/economy/senate-rejects-billions-in-trump-spending-cuts-as-two-republicans-vote-no/2018/06/20/1a44df9a-74aa-11e8-b4b7-308400242c2e_story.html'},\n",
       " {'headline': 'Amanda Septimo is running for office in the country’s poorest district. Here’s what she hopes to do.',\n",
       "  'link': 'https://www.washingtonpost.com/business/economy/senate-rejects-billions-in-trump-spending-cuts-as-two-republicans-vote-no/2018/06/20/1a44df9a-74aa-11e8-b4b7-308400242c2e_story.html'},\n",
       " {'link': 'https://www.washingtonpost.com/business/economy/senate-rejects-billions-in-trump-spending-cuts-as-two-republicans-vote-no/2018/06/20/1a44df9a-74aa-11e8-b4b7-308400242c2e_story.html'},\n",
       " {'headline': 'Sexual harassment starts at a young age for many girls. The effect can be lifelong.',\n",
       "  'link': 'https://www.washingtonpost.com/business/economy/senate-rejects-billions-in-trump-spending-cuts-as-two-republicans-vote-no/2018/06/20/1a44df9a-74aa-11e8-b4b7-308400242c2e_story.html'},\n",
       " {'headline': 'Sexual harassment starts at a young age for many girls. The effect can be lifelong.',\n",
       "  'link': 'https://www.washingtonpost.com/business/economy/senate-rejects-billions-in-trump-spending-cuts-as-two-republicans-vote-no/2018/06/20/1a44df9a-74aa-11e8-b4b7-308400242c2e_story.html'},\n",
       " {'link': 'https://www.washingtonpost.com/business/economy/senate-rejects-billions-in-trump-spending-cuts-as-two-republicans-vote-no/2018/06/20/1a44df9a-74aa-11e8-b4b7-308400242c2e_story.html'}]"
      ]
     },
     "execution_count": 6,
     "metadata": {},
     "output_type": "execute_result"
    }
   ],
   "source": [
    "list_articles = []\n",
    "\n",
    "for article in articles:\n",
    "    article_dict = {}\n",
    "    headline = article.find(class_='headline')\n",
    "    author = article.find(class_='author')\n",
    "    html = article.find('a')\n",
    "    link = html.get('href')\n",
    "\n",
    "\n",
    "    if headline:\n",
    "        article_dict['headline'] = headline.text.strip()\n",
    "    if author:\n",
    "        article_dict['author'] = author.text.strip()\n",
    "    if link:\n",
    "        article_dict['link'] = link    \n",
    "    list_articles.append(article_dict)\n",
    "\n",
    "for op in opinion:\n",
    "    op_dict = {}\n",
    "    headline2= op.find(class_='headline')\n",
    "    author2 = op.find(class_='author')\n",
    "   \n",
    "    \n",
    "    if headline2:\n",
    "        op_dict['headline'] = headline2.text.strip()\n",
    "    if author2:\n",
    "        op_dict['author'] = author2.text.strip()\n",
    "    if link:\n",
    "        op_dict['link'] = link\n",
    "    list_articles.append(op_dict)\n",
    "    \n",
    "list_articles"
   ]
  },
  {
   "cell_type": "code",
   "execution_count": 7,
   "metadata": {},
   "outputs": [
    {
     "data": {
      "text/html": [
       "<div>\n",
       "<style scoped>\n",
       "    .dataframe tbody tr th:only-of-type {\n",
       "        vertical-align: middle;\n",
       "    }\n",
       "\n",
       "    .dataframe tbody tr th {\n",
       "        vertical-align: top;\n",
       "    }\n",
       "\n",
       "    .dataframe thead th {\n",
       "        text-align: right;\n",
       "    }\n",
       "</style>\n",
       "<table border=\"1\" class=\"dataframe\">\n",
       "  <thead>\n",
       "    <tr style=\"text-align: right;\">\n",
       "      <th></th>\n",
       "      <th>author</th>\n",
       "      <th>headline</th>\n",
       "      <th>link</th>\n",
       "    </tr>\n",
       "  </thead>\n",
       "  <tbody>\n",
       "    <tr>\n",
       "      <th>0</th>\n",
       "      <td>Michael Scherer</td>\n",
       "      <td>In retreat on family separation policy, Trump’...</td>\n",
       "      <td>https://www.washingtonpost.com/politics/family...</td>\n",
       "    </tr>\n",
       "    <tr>\n",
       "      <th>1</th>\n",
       "      <td>JM Rieger</td>\n",
       "      <td>The Trump administration changed its story on ...</td>\n",
       "      <td>https://www.washingtonpost.com/news/the-fix/wp...</td>\n",
       "    </tr>\n",
       "    <tr>\n",
       "      <th>2</th>\n",
       "      <td>Dan Balz</td>\n",
       "      <td>Longtime GOP strategist abandons his party, ca...</td>\n",
       "      <td>https://www.washingtonpost.com/politics/a-gop-...</td>\n",
       "    </tr>\n",
       "    <tr>\n",
       "      <th>3</th>\n",
       "      <td>Erica Werner</td>\n",
       "      <td>Senate rejects billions in Trump spending cuts...</td>\n",
       "      <td>https://www.washingtonpost.com/business/econom...</td>\n",
       "    </tr>\n",
       "    <tr>\n",
       "      <th>4</th>\n",
       "      <td>Michael Scherer</td>\n",
       "      <td>In retreat on family separation policy, Trump’...</td>\n",
       "      <td>https://www.washingtonpost.com/business/econom...</td>\n",
       "    </tr>\n",
       "  </tbody>\n",
       "</table>\n",
       "</div>"
      ],
      "text/plain": [
       "            author                                           headline  \\\n",
       "0  Michael Scherer  In retreat on family separation policy, Trump’...   \n",
       "1        JM Rieger  The Trump administration changed its story on ...   \n",
       "2         Dan Balz  Longtime GOP strategist abandons his party, ca...   \n",
       "3     Erica Werner  Senate rejects billions in Trump spending cuts...   \n",
       "4  Michael Scherer  In retreat on family separation policy, Trump’...   \n",
       "\n",
       "                                                link  \n",
       "0  https://www.washingtonpost.com/politics/family...  \n",
       "1  https://www.washingtonpost.com/news/the-fix/wp...  \n",
       "2  https://www.washingtonpost.com/politics/a-gop-...  \n",
       "3  https://www.washingtonpost.com/business/econom...  \n",
       "4  https://www.washingtonpost.com/business/econom...  "
      ]
     },
     "execution_count": 7,
     "metadata": {},
     "output_type": "execute_result"
    }
   ],
   "source": [
    "df = pd.DataFrame(list_articles)\n",
    "df.head()"
   ]
  },
  {
   "cell_type": "code",
   "execution_count": 8,
   "metadata": {},
   "outputs": [
    {
     "data": {
      "text/plain": [
       "datetime.datetime(2018, 6, 20, 21, 11, 33, 34649)"
      ]
     },
     "execution_count": 8,
     "metadata": {},
     "output_type": "execute_result"
    }
   ],
   "source": [
    "import datetime\n",
    "right_now = datetime.datetime.now()\n",
    "right_now"
   ]
  },
  {
   "cell_type": "code",
   "execution_count": 9,
   "metadata": {},
   "outputs": [
    {
     "data": {
      "text/plain": [
       "'2018-06-20_21_11_33'"
      ]
     },
     "execution_count": 9,
     "metadata": {},
     "output_type": "execute_result"
    }
   ],
   "source": [
    "right_now.strftime(\"%Y-%m-%d_%H_%M_%S\")"
   ]
  },
  {
   "cell_type": "code",
   "execution_count": 10,
   "metadata": {},
   "outputs": [],
   "source": [
    "filename = \"briefing-\" + right_now.strftime(\"%Y-%m-%d_%H_%M_%S\") + \".csv\"\n",
    "df.to_csv(filename, index=False)"
   ]
  },
  {
   "cell_type": "code",
   "execution_count": 11,
   "metadata": {},
   "outputs": [],
   "source": [
    "df.to_csv('briefing.csv', index = False)"
   ]
  },
  {
   "cell_type": "markdown",
   "metadata": {},
   "source": [
    "Send yourself an email with as much information as possible from the site, such as:\n",
    "\n",
    "The title of the thing (the sale, the article, whatever)\n",
    "A URL for it\n",
    "Upvotes/thumbs ups/subreddits/prices/links to images/etc\n",
    "Save this as a CSV, and send it as an attachment to your email address every 6 hours. The email headline should say something like \"Here is your 6PM briefing.\" The CSV file should be timestamped with the current date and time, e.g. briefing-2018-06-18-3PM.csv\n",
    "\n",
    "BONUS: Have the content actually be the body of the email, not just an attachment. I don't mean like a CSV or whatever, I mean it should actually look like nice lists and stuff, a real email."
   ]
  },
  {
   "cell_type": "code",
   "execution_count": 20,
   "metadata": {},
   "outputs": [],
   "source": [
    "def send_simple_message():\n",
    "    return requests.post(\n",
    "        \"https://api.mailgun.net/v3/sandbox------.mailgun.org/messages\",\n",
    "        auth=(\"api\", \"b----e\"),\n",
    "        files=[(\"attachment\", open(filename))],\n",
    "        data={\"from\": \"Diana Baptista <mailgun@sandbox-------.mailgun.org>\",\n",
    "              \"to\": [\"dianadbr@gmail.com\"],\n",
    "              \"subject\": \"Here is your 6PM briefing\",\n",
    "              \"text\": \"Here are the latest news\"})"
   ]
  },
  {
   "cell_type": "code",
   "execution_count": 21,
   "metadata": {},
   "outputs": [
    {
     "data": {
      "text/plain": [
       "<Response [200]>"
      ]
     },
     "execution_count": 21,
     "metadata": {},
     "output_type": "execute_result"
    }
   ],
   "source": [
    "send_simple_message()"
   ]
  },
  {
   "cell_type": "code",
   "execution_count": null,
   "metadata": {},
   "outputs": [],
   "source": []
  }
 ],
 "metadata": {
  "kernelspec": {
   "display_name": "Python 3",
   "language": "python",
   "name": "python3"
  },
  "language_info": {
   "codemirror_mode": {
    "name": "ipython",
    "version": 3
   },
   "file_extension": ".py",
   "mimetype": "text/x-python",
   "name": "python",
   "nbconvert_exporter": "python",
   "pygments_lexer": "ipython3",
   "version": "3.6.5"
  }
 },
 "nbformat": 4,
 "nbformat_minor": 2
}
