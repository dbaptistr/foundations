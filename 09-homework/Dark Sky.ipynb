{
 "cells": [
  {
   "cell_type": "code",
   "execution_count": 1,
   "metadata": {},
   "outputs": [],
   "source": [
    "import requests\n",
    "from bs4 import BeautifulSoup\n",
    "import pandas as pd"
   ]
  },
  {
   "cell_type": "code",
   "execution_count": 2,
   "metadata": {},
   "outputs": [
    {
     "name": "stdout",
     "output_type": "stream",
     "text": [
      "dict_keys(['timezone', 'longitude', 'latitude', 'offset', 'daily', 'currently', 'flags', 'hourly', 'minutely'])\n"
     ]
    }
   ],
   "source": [
    "response = requests.get(\"https://api.darksky.net/forecast/a338b1942222a777f0b853e7e63cd5b3/40.730610,-73.935242\")\n",
    "data = response.json()\n",
    "print(data.keys())"
   ]
  },
  {
   "cell_type": "code",
   "execution_count": 3,
   "metadata": {},
   "outputs": [],
   "source": [
    "daily = data[\"daily\"]\n"
   ]
  },
  {
   "cell_type": "code",
   "execution_count": 4,
   "metadata": {},
   "outputs": [],
   "source": [
    "current = data[\"currently\"]\n"
   ]
  },
  {
   "cell_type": "code",
   "execution_count": 5,
   "metadata": {},
   "outputs": [],
   "source": [
    "data_daily = daily[\"data\"]\n",
    "data_daily1 = data_daily[0]\n"
   ]
  },
  {
   "cell_type": "code",
   "execution_count": 6,
   "metadata": {},
   "outputs": [],
   "source": [
    "temperature = current[\"temperature\"]\n",
    "summary = data_daily1[\"summary\"].lower()\n",
    "temp_feeling = current[\"apparentTemperature\"]\n",
    "high_temp = data_daily1[\"temperatureHigh\"]\n",
    "low_temp = data_daily1[\"temperatureLow\"]\n",
    "rain_warning = current[\"precipProbability\"]"
   ]
  },
  {
   "cell_type": "code",
   "execution_count": 7,
   "metadata": {},
   "outputs": [],
   "source": [
    "sentence = (\"Right now it is\", temperature, \"degrees out,\", summary, \"Today will be\", temp_feeling, \"F degrees with a high of\", high_temp, \"F degrees and a low of\", low_temp, \"F degrees.\", \"There's a\", rain_warning, \"percent probability of rain for today.\")"
   ]
  },
  {
   "cell_type": "code",
   "execution_count": 8,
   "metadata": {},
   "outputs": [
    {
     "data": {
      "text/plain": [
       "('Right now it is',\n",
       " 84.19,\n",
       " 'degrees out,',\n",
       " 'humid throughout the day and partly cloudy until afternoon.',\n",
       " 'Today will be',\n",
       " 84.19,\n",
       " 'F degrees with a high of',\n",
       " 86.63,\n",
       " 'F degrees and a low of',\n",
       " 67.78,\n",
       " 'F degrees.',\n",
       " \"There's a\",\n",
       " 0,\n",
       " 'percent probability of rain for today.')"
      ]
     },
     "execution_count": 8,
     "metadata": {},
     "output_type": "execute_result"
    }
   ],
   "source": [
    "sentence"
   ]
  },
  {
   "cell_type": "code",
   "execution_count": 9,
   "metadata": {},
   "outputs": [],
   "source": [
    "def send_simple_message():\n",
    "    return requests.post(\n",
    "        \"https://api.mailgun.net/v3/sandbox0------.mailgun.org/messages\",\n",
    "        auth=(\"api\", \"b------\"),\n",
    "        data={\"from\": \"Diana Baptista <mailgun@sandbox0-----.mailgun.org>\",\n",
    "              \"to\": [\"dianadbr@gmail.com\"],\n",
    "              \"subject\": \"8AM Weather forecast: January 1, 1970\",\n",
    "              \"text\": sentence})"
   ]
  },
  {
   "cell_type": "code",
   "execution_count": null,
   "metadata": {},
   "outputs": [],
   "source": []
  }
 ],
 "metadata": {
  "kernelspec": {
   "display_name": "Python 3",
   "language": "python",
   "name": "python3"
  },
  "language_info": {
   "codemirror_mode": {
    "name": "ipython",
    "version": 3
   },
   "file_extension": ".py",
   "mimetype": "text/x-python",
   "name": "python",
   "nbconvert_exporter": "python",
   "pygments_lexer": "ipython3",
   "version": "3.6.5"
  }
 },
 "nbformat": 4,
 "nbformat_minor": 2
}
