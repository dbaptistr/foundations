{
 "cells": [
  {
   "cell_type": "code",
   "execution_count": 35,
   "metadata": {},
   "outputs": [],
   "source": [
    "import requests\n",
    "from bs4 import BeautifulSoup\n",
    "import pandas as pd"
   ]
  },
  {
   "cell_type": "code",
   "execution_count": 36,
   "metadata": {},
   "outputs": [],
   "source": [
    "response = requests.get(\"https://www.washingtonpost.com/\")"
   ]
  },
  {
   "cell_type": "code",
   "execution_count": 37,
   "metadata": {},
   "outputs": [],
   "source": [
    "doc = BeautifulSoup(response.text, 'html.parser')"
   ]
  },
  {
   "cell_type": "code",
   "execution_count": 55,
   "metadata": {},
   "outputs": [],
   "source": [
    "articles = doc.find_all(class_=\"top-table-col\")"
   ]
  },
  {
   "cell_type": "code",
   "execution_count": 57,
   "metadata": {},
   "outputs": [],
   "source": [
    "opinion = doc.find_all(class_=\"flex-stack\")"
   ]
  },
  {
   "cell_type": "code",
   "execution_count": 65,
   "metadata": {},
   "outputs": [
    {
     "data": {
      "text/plain": [
       "[{'author': 'Mike DeBonis',\n",
       "  'headline': 'Trump urges House Republicans to fix immigration system',\n",
       "  'link': 'https://www.washingtonpost.com/powerpost/trump-is-defiant-as-border-crisis-escalates-prepares-to-lobby-house-gop-on-immigration-bills/2018/06/19/e20a108e-73c1-11e8-805c-4b67019fcfe4_story.html'},\n",
       " {'author': 'Peter Slevin',\n",
       "  'headline': '‘You can’t just gloss over this history’: Movement to honor Ida B. Wells gains momentum',\n",
       "  'link': 'https://www.washingtonpost.com/lifestyle/style/you-cant-just-gloss-over-this-history-the-movement-to-honor-ida-b-wells-gains-momentum/2018/06/15/50445bbc-700d-11e8-bd50-b80389a4e569_story.html'},\n",
       " {'author': 'Peter Slevin',\n",
       "  'headline': '‘You can’t just gloss over this history’: Movement to honor Ida B. Wells gains momentum',\n",
       "  'link': 'https://www.washingtonpost.com/lifestyle/style/you-cant-just-gloss-over-this-history-the-movement-to-honor-ida-b-wells-gains-momentum/2018/06/15/50445bbc-700d-11e8-bd50-b80389a4e569_story.html'},\n",
       " {'author': 'Molly Roberts',\n",
       "  'headline': 'Look who’s politically correct now',\n",
       "  'link': 'https://www.washingtonpost.com/lifestyle/style/you-cant-just-gloss-over-this-history-the-movement-to-honor-ida-b-wells-gains-momentum/2018/06/15/50445bbc-700d-11e8-bd50-b80389a4e569_story.html'},\n",
       " {'author': 'Helaine Olen',\n",
       "  'headline': 'Why Trump has upped the ante on cruelty',\n",
       "  'link': 'https://www.washingtonpost.com/lifestyle/style/you-cant-just-gloss-over-this-history-the-movement-to-honor-ida-b-wells-gains-momentum/2018/06/15/50445bbc-700d-11e8-bd50-b80389a4e569_story.html'},\n",
       " {'author': 'David Von Drehle',\n",
       "  'headline': 'America’s No. 1 voter fraud conspiracy theorist goes down in court',\n",
       "  'link': 'https://www.washingtonpost.com/lifestyle/style/you-cant-just-gloss-over-this-history-the-movement-to-honor-ida-b-wells-gains-momentum/2018/06/15/50445bbc-700d-11e8-bd50-b80389a4e569_story.html'},\n",
       " {'author': 'Kathleen Parker',\n",
       "  'headline': 'Good night, GOP of Trump',\n",
       "  'link': 'https://www.washingtonpost.com/lifestyle/style/you-cant-just-gloss-over-this-history-the-movement-to-honor-ida-b-wells-gains-momentum/2018/06/15/50445bbc-700d-11e8-bd50-b80389a4e569_story.html'},\n",
       " {'author': 'Jennifer Rubin',\n",
       "  'headline': 'Trump’s cruel policy leaves him more isolated than ever',\n",
       "  'link': 'https://www.washingtonpost.com/lifestyle/style/you-cant-just-gloss-over-this-history-the-movement-to-honor-ida-b-wells-gains-momentum/2018/06/15/50445bbc-700d-11e8-bd50-b80389a4e569_story.html'},\n",
       " {'author': 'Erik Wemple',\n",
       "  'headline': 'Here’s why Kirstjen Nielsen said ‘don’t believe the press’',\n",
       "  'link': 'https://www.washingtonpost.com/lifestyle/style/you-cant-just-gloss-over-this-history-the-movement-to-honor-ida-b-wells-gains-momentum/2018/06/15/50445bbc-700d-11e8-bd50-b80389a4e569_story.html'},\n",
       " {'headline': 'U.S. withdraws from U.N. Human Rights Council over perceived bias against Israel',\n",
       "  'link': 'https://www.washingtonpost.com/lifestyle/style/you-cant-just-gloss-over-this-history-the-movement-to-honor-ida-b-wells-gains-momentum/2018/06/15/50445bbc-700d-11e8-bd50-b80389a4e569_story.html'},\n",
       " {'headline': 'More popular stories on washingtonpost.com',\n",
       "  'link': 'https://www.washingtonpost.com/lifestyle/style/you-cant-just-gloss-over-this-history-the-movement-to-honor-ida-b-wells-gains-momentum/2018/06/15/50445bbc-700d-11e8-bd50-b80389a4e569_story.html'},\n",
       " {'link': 'https://www.washingtonpost.com/lifestyle/style/you-cant-just-gloss-over-this-history-the-movement-to-honor-ida-b-wells-gains-momentum/2018/06/15/50445bbc-700d-11e8-bd50-b80389a4e569_story.html'},\n",
       " {'headline': 'This Juneteenth, commemorate the end of slavery and remember the families still torn apart in this country',\n",
       "  'link': 'https://www.washingtonpost.com/lifestyle/style/you-cant-just-gloss-over-this-history-the-movement-to-honor-ida-b-wells-gains-momentum/2018/06/15/50445bbc-700d-11e8-bd50-b80389a4e569_story.html'},\n",
       " {'headline': 'Do you know the signs of dementia?',\n",
       "  'link': 'https://www.washingtonpost.com/lifestyle/style/you-cant-just-gloss-over-this-history-the-movement-to-honor-ida-b-wells-gains-momentum/2018/06/15/50445bbc-700d-11e8-bd50-b80389a4e569_story.html'}]"
      ]
     },
     "execution_count": 65,
     "metadata": {},
     "output_type": "execute_result"
    }
   ],
   "source": [
    "list_articles = []\n",
    "\n",
    "for article in articles:\n",
    "    article_dict = {}\n",
    "    headline = article.find(class_='headline')\n",
    "    author = article.find(class_='author')\n",
    "    html = article.find('a')\n",
    "    link = html.get('href')\n",
    "\n",
    "\n",
    "    if headline:\n",
    "        article_dict['headline'] = headline.text.strip()\n",
    "    if author:\n",
    "        article_dict['author'] = author.text.strip()\n",
    "    if link:\n",
    "        article_dict['link'] = link    \n",
    "    list_articles.append(article_dict)\n",
    "\n",
    "for op in opinion:\n",
    "    op_dict = {}\n",
    "    headline2= op.find(class_='headline')\n",
    "    author2 = op.find(class_='author')\n",
    "   \n",
    "    \n",
    "    if headline2:\n",
    "        op_dict['headline'] = headline2.text.strip()\n",
    "    if author2:\n",
    "        op_dict['author'] = author2.text.strip()\n",
    "    if link:\n",
    "        op_dict['link'] = link\n",
    "    list_articles.append(op_dict)\n",
    "    \n",
    "list_articles"
   ]
  },
  {
   "cell_type": "code",
   "execution_count": 66,
   "metadata": {},
   "outputs": [
    {
     "data": {
      "text/html": [
       "<div>\n",
       "<style scoped>\n",
       "    .dataframe tbody tr th:only-of-type {\n",
       "        vertical-align: middle;\n",
       "    }\n",
       "\n",
       "    .dataframe tbody tr th {\n",
       "        vertical-align: top;\n",
       "    }\n",
       "\n",
       "    .dataframe thead th {\n",
       "        text-align: right;\n",
       "    }\n",
       "</style>\n",
       "<table border=\"1\" class=\"dataframe\">\n",
       "  <thead>\n",
       "    <tr style=\"text-align: right;\">\n",
       "      <th></th>\n",
       "      <th>author</th>\n",
       "      <th>headline</th>\n",
       "      <th>link</th>\n",
       "    </tr>\n",
       "  </thead>\n",
       "  <tbody>\n",
       "    <tr>\n",
       "      <th>0</th>\n",
       "      <td>Mike DeBonis</td>\n",
       "      <td>Trump urges House Republicans to fix immigrati...</td>\n",
       "      <td>https://www.washingtonpost.com/powerpost/trump...</td>\n",
       "    </tr>\n",
       "    <tr>\n",
       "      <th>1</th>\n",
       "      <td>Peter Slevin</td>\n",
       "      <td>‘You can’t just gloss over this history’: Move...</td>\n",
       "      <td>https://www.washingtonpost.com/lifestyle/style...</td>\n",
       "    </tr>\n",
       "    <tr>\n",
       "      <th>2</th>\n",
       "      <td>Peter Slevin</td>\n",
       "      <td>‘You can’t just gloss over this history’: Move...</td>\n",
       "      <td>https://www.washingtonpost.com/lifestyle/style...</td>\n",
       "    </tr>\n",
       "    <tr>\n",
       "      <th>3</th>\n",
       "      <td>Molly Roberts</td>\n",
       "      <td>Look who’s politically correct now</td>\n",
       "      <td>https://www.washingtonpost.com/lifestyle/style...</td>\n",
       "    </tr>\n",
       "    <tr>\n",
       "      <th>4</th>\n",
       "      <td>Helaine Olen</td>\n",
       "      <td>Why Trump has upped the ante on cruelty</td>\n",
       "      <td>https://www.washingtonpost.com/lifestyle/style...</td>\n",
       "    </tr>\n",
       "  </tbody>\n",
       "</table>\n",
       "</div>"
      ],
      "text/plain": [
       "          author                                           headline  \\\n",
       "0   Mike DeBonis  Trump urges House Republicans to fix immigrati...   \n",
       "1   Peter Slevin  ‘You can’t just gloss over this history’: Move...   \n",
       "2   Peter Slevin  ‘You can’t just gloss over this history’: Move...   \n",
       "3  Molly Roberts                 Look who’s politically correct now   \n",
       "4   Helaine Olen            Why Trump has upped the ante on cruelty   \n",
       "\n",
       "                                                link  \n",
       "0  https://www.washingtonpost.com/powerpost/trump...  \n",
       "1  https://www.washingtonpost.com/lifestyle/style...  \n",
       "2  https://www.washingtonpost.com/lifestyle/style...  \n",
       "3  https://www.washingtonpost.com/lifestyle/style...  \n",
       "4  https://www.washingtonpost.com/lifestyle/style...  "
      ]
     },
     "execution_count": 66,
     "metadata": {},
     "output_type": "execute_result"
    }
   ],
   "source": [
    "df = pd.DataFrame(list_articles)\n",
    "df.head()"
   ]
  },
  {
   "cell_type": "code",
   "execution_count": 69,
   "metadata": {},
   "outputs": [
    {
     "data": {
      "text/plain": [
       "datetime.datetime(2018, 6, 20, 0, 9, 5, 121211)"
      ]
     },
     "execution_count": 69,
     "metadata": {},
     "output_type": "execute_result"
    }
   ],
   "source": [
    "import datetime\n",
    "right_now = datetime.datetime.now()\n",
    "right_now"
   ]
  },
  {
   "cell_type": "code",
   "execution_count": 70,
   "metadata": {},
   "outputs": [
    {
     "data": {
      "text/plain": [
       "'2018-06-20_00_09_05'"
      ]
     },
     "execution_count": 70,
     "metadata": {},
     "output_type": "execute_result"
    }
   ],
   "source": [
    "right_now.strftime(\"%Y-%m-%d_%H_%M_%S\")"
   ]
  },
  {
   "cell_type": "code",
   "execution_count": 71,
   "metadata": {},
   "outputs": [],
   "source": [
    "filename = \"briefing-\" + right_now.strftime(\"%Y-%m-%d_%H_%M_%S\") + \".csv\"\n",
    "df.to_csv(filename, index=False)"
   ]
  },
  {
   "cell_type": "code",
   "execution_count": 72,
   "metadata": {},
   "outputs": [],
   "source": [
    "df.to_csv('briefing.csv', index = False)"
   ]
  },
  {
   "cell_type": "markdown",
   "metadata": {},
   "source": [
    "Send yourself an email with as much information as possible from the site, such as:\n",
    "\n",
    "The title of the thing (the sale, the article, whatever)\n",
    "A URL for it\n",
    "Upvotes/thumbs ups/subreddits/prices/links to images/etc\n",
    "Save this as a CSV, and send it as an attachment to your email address every 6 hours. The email headline should say something like \"Here is your 6PM briefing.\" The CSV file should be timestamped with the current date and time, e.g. briefing-2018-06-18-3PM.csv\n",
    "\n",
    "BONUS: Have the content actually be the body of the email, not just an attachment. I don't mean like a CSV or whatever, I mean it should actually look like nice lists and stuff, a real email."
   ]
  },
  {
   "cell_type": "code",
   "execution_count": 73,
   "metadata": {},
   "outputs": [],
   "source": [
    "def send_simple_message():\n",
    "    return requests.post(\n",
    "        \"https://api.mailgun.net/v3/sandbox0-----.mailgun.org/messages\",\n",
    "        auth=(\"api\", \"b----\"),\n",
    "        files=[(\"attachment\", open(\"briefing.csv\"))],\n",
    "        data={\"from\": \"Diana Baptista <mailgun@sandbox0-----.mailgun.org>\",\n",
    "              \"to\": [\"dianadbr@gmail.com\"],\n",
    "              \"subject\": \"Here is your 6PM briefing\",\n",
    "              \"text\": \"Here are the latest news\"})"
   ]
  },
  {
   "cell_type": "code",
   "execution_count": null,
   "metadata": {},
   "outputs": [],
   "source": []
  }
 ],
 "metadata": {
  "kernelspec": {
   "display_name": "Python 3",
   "language": "python",
   "name": "python3"
  },
  "language_info": {
   "codemirror_mode": {
    "name": "ipython",
    "version": 3
   },
   "file_extension": ".py",
   "mimetype": "text/x-python",
   "name": "python",
   "nbconvert_exporter": "python",
   "pygments_lexer": "ipython3",
   "version": "3.6.5"
  }
 },
 "nbformat": 4,
 "nbformat_minor": 2
}
